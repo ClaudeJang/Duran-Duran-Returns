{
  "nbformat": 4,
  "nbformat_minor": 0,
  "metadata": {
    "colab": {
      "name": "modeling.ipynb",
      "version": "0.3.2",
      "provenance": [],
      "collapsed_sections": [],
      "include_colab_link": true
    },
    "kernelspec": {
      "name": "python3",
      "display_name": "Python 3"
    },
    "accelerator": "GPU"
  },
  "cells": [
    {
      "cell_type": "markdown",
      "metadata": {
        "id": "view-in-github",
        "colab_type": "text"
      },
      "source": [
        "<a href=\"https://colab.research.google.com/github/ClaudeJang/Duran-Duran-Returns/blob/master/modeling.ipynb\" target=\"_parent\"><img src=\"https://colab.research.google.com/assets/colab-badge.svg\" alt=\"Open In Colab\"/></a>"
      ]
    },
    {
      "metadata": {
        "id": "vLg3IOiMQdaQ",
        "colab_type": "code",
        "outputId": "9d23a84d-e1b1-4f76-9a19-0a279ffc786d",
        "colab": {
          "base_uri": "https://localhost:8080/",
          "height": 232
        }
      },
      "cell_type": "code",
      "source": [
        "# 처음 실행할 때 한 번만! \n",
        "!apt-get install -y -qq software-properties-common python-software-properties module-init-tools\n",
        "\n",
        "!add-apt-repository -y ppa:alessandro-strada/ppa 2>&1 > /dev/null\n",
        "\n",
        "!apt-get update -qq 2>&1 > /dev/null\n",
        "\n",
        "!apt-get -y install -qq google-drive-ocamlfuse fuse\n",
        "\n",
        "from google.colab import auth\n",
        "\n",
        "auth.authenticate_user()\n",
        "\n",
        "from oauth2client.client import GoogleCredentials\n",
        "\n",
        "creds = GoogleCredentials.get_application_default()\n",
        "\n",
        "import getpass\n",
        "\n",
        "!google-drive-ocamlfuse -headless -id={creds.client_id} -secret={creds.client_secret} < /dev/null 2>&1 | grep URL\n",
        "\n",
        "vcode = getpass.getpass()\n",
        "\n",
        "!echo {vcode} | google-drive-ocamlfuse -headless -id={creds.client_id} -secret={creds.client_secret}"
      ],
      "execution_count": 1,
      "outputs": [
        {
          "output_type": "stream",
          "text": [
            "E: Package 'python-software-properties' has no installation candidate\n",
            "Selecting previously unselected package google-drive-ocamlfuse.\n",
            "(Reading database ... 110851 files and directories currently installed.)\n",
            "Preparing to unpack .../google-drive-ocamlfuse_0.7.1-0ubuntu3~ubuntu18.04.1_amd64.deb ...\n",
            "Unpacking google-drive-ocamlfuse (0.7.1-0ubuntu3~ubuntu18.04.1) ...\n",
            "Setting up google-drive-ocamlfuse (0.7.1-0ubuntu3~ubuntu18.04.1) ...\n",
            "Processing triggers for man-db (2.8.3-2ubuntu0.1) ...\n",
            "Please, open the following URL in a web browser: https://accounts.google.com/o/oauth2/auth?client_id=32555940559.apps.googleusercontent.com&redirect_uri=urn%3Aietf%3Awg%3Aoauth%3A2.0%3Aoob&scope=https%3A%2F%2Fwww.googleapis.com%2Fauth%2Fdrive&response_type=code&access_type=offline&approval_prompt=force\n",
            "··········\n",
            "Please, open the following URL in a web browser: https://accounts.google.com/o/oauth2/auth?client_id=32555940559.apps.googleusercontent.com&redirect_uri=urn%3Aietf%3Awg%3Aoauth%3A2.0%3Aoob&scope=https%3A%2F%2Fwww.googleapis.com%2Fauth%2Fdrive&response_type=code&access_type=offline&approval_prompt=force\n",
            "Please enter the verification code: Access token retrieved correctly.\n"
          ],
          "name": "stdout"
        }
      ]
    },
    {
      "metadata": {
        "id": "Zy75irJcRRoq",
        "colab_type": "code",
        "colab": {}
      },
      "cell_type": "code",
      "source": [
        "!mkdir -p drive\n",
        "\n",
        "!google-drive-ocamlfuse drive"
      ],
      "execution_count": 0,
      "outputs": []
    },
    {
      "metadata": {
        "id": "8LaH7uGERl9m",
        "colab_type": "code",
        "outputId": "9d932d6c-7d52-4cd7-927e-1b3484bab8a7",
        "colab": {
          "base_uri": "https://localhost:8080/",
          "height": 35
        }
      },
      "cell_type": "code",
      "source": [
        "cd drive"
      ],
      "execution_count": 0,
      "outputs": [
        {
          "output_type": "stream",
          "text": [
            "/content/drive\n"
          ],
          "name": "stdout"
        }
      ]
    },
    {
      "metadata": {
        "id": "gdV_Cwm0TNUm",
        "colab_type": "code",
        "outputId": "6d88b59f-cbae-448a-ef39-1151b22f5430",
        "colab": {
          "base_uri": "https://localhost:8080/",
          "height": 36
        }
      },
      "cell_type": "code",
      "source": [
        "# ls -ltr"
      ],
      "execution_count": 0,
      "outputs": [
        {
          "output_type": "stream",
          "text": [
            "total 0\n"
          ],
          "name": "stdout"
        }
      ]
    },
    {
      "metadata": {
        "id": "_Wf7nTr5TPKf",
        "colab_type": "code",
        "colab": {}
      },
      "cell_type": "code",
      "source": [
        "import keras\n",
        "import pandas as pd \n",
        "import numpy as np \n",
        "import warnings\n"
      ],
      "execution_count": 0,
      "outputs": []
    },
    {
      "metadata": {
        "id": "AR97OdVRUwOE",
        "colab_type": "code",
        "outputId": "e5dce5e8-72c3-4ef7-964e-4a94681b8b0c",
        "colab": {
          "base_uri": "https://localhost:8080/",
          "height": 284
        }
      },
      "cell_type": "code",
      "source": [
        "train = pd.read_csv('./Colab Notebooks/data/normed_perfect_train.csv', encoding='utf-8',index_col = 0)\n",
        "\n",
        "train.head()"
      ],
      "execution_count": 0,
      "outputs": [
        {
          "output_type": "stream",
          "text": [
            "/usr/local/lib/python3.6/dist-packages/numpy/lib/arraysetops.py:472: FutureWarning: elementwise comparison failed; returning scalar instead, but in the future will perform elementwise comparison\n",
            "  mask |= (ar1 == a)\n"
          ],
          "name": "stderr"
        },
        {
          "output_type": "execute_result",
          "data": {
            "text/html": [
              "<div>\n",
              "<style scoped>\n",
              "    .dataframe tbody tr th:only-of-type {\n",
              "        vertical-align: middle;\n",
              "    }\n",
              "\n",
              "    .dataframe tbody tr th {\n",
              "        vertical-align: top;\n",
              "    }\n",
              "\n",
              "    .dataframe thead th {\n",
              "        text-align: right;\n",
              "    }\n",
              "</style>\n",
              "<table border=\"1\" class=\"dataframe\">\n",
              "  <thead>\n",
              "    <tr style=\"text-align: right;\">\n",
              "      <th></th>\n",
              "      <th>key</th>\n",
              "      <th>city</th>\n",
              "      <th>apartment_id</th>\n",
              "      <th>address_by_law</th>\n",
              "      <th>transaction_date</th>\n",
              "      <th>transaction_year_month</th>\n",
              "      <th>year_of_completion</th>\n",
              "      <th>apartment_building_count_in_sites</th>\n",
              "      <th>bathroom_count</th>\n",
              "      <th>exclusive_use_area</th>\n",
              "      <th>...</th>\n",
              "      <th>district</th>\n",
              "      <th>individual</th>\n",
              "      <th>cogeneration</th>\n",
              "      <th>gas</th>\n",
              "      <th>corridor</th>\n",
              "      <th>mixed</th>\n",
              "      <th>stairway</th>\n",
              "      <th>Busan</th>\n",
              "      <th>Seoul</th>\n",
              "      <th>transaction_real_price</th>\n",
              "    </tr>\n",
              "  </thead>\n",
              "  <tbody>\n",
              "    <tr>\n",
              "      <th>0</th>\n",
              "      <td>0.000000e+00</td>\n",
              "      <td>1.0</td>\n",
              "      <td>0.111040</td>\n",
              "      <td>0.000004</td>\n",
              "      <td>0.47619</td>\n",
              "      <td>0.0</td>\n",
              "      <td>0.660714</td>\n",
              "      <td>0.00000</td>\n",
              "      <td>0.2</td>\n",
              "      <td>0.111218</td>\n",
              "      <td>...</td>\n",
              "      <td>0.0</td>\n",
              "      <td>1.0</td>\n",
              "      <td>0.0</td>\n",
              "      <td>1.0</td>\n",
              "      <td>1.0</td>\n",
              "      <td>0.0</td>\n",
              "      <td>0.0</td>\n",
              "      <td>0.0</td>\n",
              "      <td>1.0</td>\n",
              "      <td>215000000</td>\n",
              "    </tr>\n",
              "    <tr>\n",
              "      <th>1</th>\n",
              "      <td>6.229082e-07</td>\n",
              "      <td>1.0</td>\n",
              "      <td>0.111040</td>\n",
              "      <td>0.000004</td>\n",
              "      <td>0.47619</td>\n",
              "      <td>0.0</td>\n",
              "      <td>0.660714</td>\n",
              "      <td>0.00000</td>\n",
              "      <td>0.2</td>\n",
              "      <td>0.100252</td>\n",
              "      <td>...</td>\n",
              "      <td>0.0</td>\n",
              "      <td>1.0</td>\n",
              "      <td>0.0</td>\n",
              "      <td>1.0</td>\n",
              "      <td>1.0</td>\n",
              "      <td>0.0</td>\n",
              "      <td>0.0</td>\n",
              "      <td>0.0</td>\n",
              "      <td>1.0</td>\n",
              "      <td>200000000</td>\n",
              "    </tr>\n",
              "    <tr>\n",
              "      <th>2</th>\n",
              "      <td>1.245816e-06</td>\n",
              "      <td>1.0</td>\n",
              "      <td>0.100595</td>\n",
              "      <td>0.000004</td>\n",
              "      <td>0.47619</td>\n",
              "      <td>0.0</td>\n",
              "      <td>0.535714</td>\n",
              "      <td>0.03252</td>\n",
              "      <td>0.2</td>\n",
              "      <td>0.137272</td>\n",
              "      <td>...</td>\n",
              "      <td>0.0</td>\n",
              "      <td>1.0</td>\n",
              "      <td>0.0</td>\n",
              "      <td>1.0</td>\n",
              "      <td>1.0</td>\n",
              "      <td>0.0</td>\n",
              "      <td>0.0</td>\n",
              "      <td>0.0</td>\n",
              "      <td>1.0</td>\n",
              "      <td>168000000</td>\n",
              "    </tr>\n",
              "    <tr>\n",
              "      <th>3</th>\n",
              "      <td>1.868725e-06</td>\n",
              "      <td>1.0</td>\n",
              "      <td>0.055968</td>\n",
              "      <td>0.000004</td>\n",
              "      <td>0.47619</td>\n",
              "      <td>0.0</td>\n",
              "      <td>0.553571</td>\n",
              "      <td>0.04878</td>\n",
              "      <td>0.2</td>\n",
              "      <td>0.172966</td>\n",
              "      <td>...</td>\n",
              "      <td>0.0</td>\n",
              "      <td>1.0</td>\n",
              "      <td>0.0</td>\n",
              "      <td>1.0</td>\n",
              "      <td>1.0</td>\n",
              "      <td>0.0</td>\n",
              "      <td>0.0</td>\n",
              "      <td>0.0</td>\n",
              "      <td>1.0</td>\n",
              "      <td>165000000</td>\n",
              "    </tr>\n",
              "    <tr>\n",
              "      <th>4</th>\n",
              "      <td>2.491633e-06</td>\n",
              "      <td>1.0</td>\n",
              "      <td>0.055968</td>\n",
              "      <td>0.000004</td>\n",
              "      <td>0.47619</td>\n",
              "      <td>0.0</td>\n",
              "      <td>0.553571</td>\n",
              "      <td>0.04878</td>\n",
              "      <td>0.4</td>\n",
              "      <td>0.323339</td>\n",
              "      <td>...</td>\n",
              "      <td>0.0</td>\n",
              "      <td>1.0</td>\n",
              "      <td>0.0</td>\n",
              "      <td>1.0</td>\n",
              "      <td>0.0</td>\n",
              "      <td>0.0</td>\n",
              "      <td>1.0</td>\n",
              "      <td>0.0</td>\n",
              "      <td>1.0</td>\n",
              "      <td>280000000</td>\n",
              "    </tr>\n",
              "  </tbody>\n",
              "</table>\n",
              "<p>5 rows × 33 columns</p>\n",
              "</div>"
            ],
            "text/plain": [
              "            key  city  apartment_id  address_by_law  transaction_date  \\\n",
              "0  0.000000e+00   1.0      0.111040        0.000004           0.47619   \n",
              "1  6.229082e-07   1.0      0.111040        0.000004           0.47619   \n",
              "2  1.245816e-06   1.0      0.100595        0.000004           0.47619   \n",
              "3  1.868725e-06   1.0      0.055968        0.000004           0.47619   \n",
              "4  2.491633e-06   1.0      0.055968        0.000004           0.47619   \n",
              "\n",
              "   transaction_year_month  year_of_completion  \\\n",
              "0                     0.0            0.660714   \n",
              "1                     0.0            0.660714   \n",
              "2                     0.0            0.535714   \n",
              "3                     0.0            0.553571   \n",
              "4                     0.0            0.553571   \n",
              "\n",
              "   apartment_building_count_in_sites  bathroom_count  exclusive_use_area  \\\n",
              "0                            0.00000             0.2            0.111218   \n",
              "1                            0.00000             0.2            0.100252   \n",
              "2                            0.03252             0.2            0.137272   \n",
              "3                            0.04878             0.2            0.172966   \n",
              "4                            0.04878             0.4            0.323339   \n",
              "\n",
              "            ...            district  individual  cogeneration  gas  corridor  \\\n",
              "0           ...                 0.0         1.0           0.0  1.0       1.0   \n",
              "1           ...                 0.0         1.0           0.0  1.0       1.0   \n",
              "2           ...                 0.0         1.0           0.0  1.0       1.0   \n",
              "3           ...                 0.0         1.0           0.0  1.0       1.0   \n",
              "4           ...                 0.0         1.0           0.0  1.0       0.0   \n",
              "\n",
              "   mixed  stairway  Busan  Seoul  transaction_real_price  \n",
              "0    0.0       0.0    0.0    1.0               215000000  \n",
              "1    0.0       0.0    0.0    1.0               200000000  \n",
              "2    0.0       0.0    0.0    1.0               168000000  \n",
              "3    0.0       0.0    0.0    1.0               165000000  \n",
              "4    0.0       1.0    0.0    1.0               280000000  \n",
              "\n",
              "[5 rows x 33 columns]"
            ]
          },
          "metadata": {
            "tags": []
          },
          "execution_count": 20
        }
      ]
    },
    {
      "metadata": {
        "id": "7-AYkeORKIt7",
        "colab_type": "code",
        "outputId": "f26bd510-d435-40c5-ee18-d5fe4d8c1bd3",
        "colab": {
          "base_uri": "https://localhost:8080/",
          "height": 249
        }
      },
      "cell_type": "code",
      "source": [
        "test = pd.read_csv('./Colab Notebooks/data/normed_perfect_test.csv',encoding='utf-8',index_col =0)\n",
        "test.tail()"
      ],
      "execution_count": 0,
      "outputs": [
        {
          "output_type": "execute_result",
          "data": {
            "text/html": [
              "<div>\n",
              "<style scoped>\n",
              "    .dataframe tbody tr th:only-of-type {\n",
              "        vertical-align: middle;\n",
              "    }\n",
              "\n",
              "    .dataframe tbody tr th {\n",
              "        vertical-align: top;\n",
              "    }\n",
              "\n",
              "    .dataframe thead th {\n",
              "        text-align: right;\n",
              "    }\n",
              "</style>\n",
              "<table border=\"1\" class=\"dataframe\">\n",
              "  <thead>\n",
              "    <tr style=\"text-align: right;\">\n",
              "      <th></th>\n",
              "      <th>key</th>\n",
              "      <th>city</th>\n",
              "      <th>apartment_id</th>\n",
              "      <th>address_by_law</th>\n",
              "      <th>transaction_date</th>\n",
              "      <th>transaction_year_month</th>\n",
              "      <th>year_of_completion</th>\n",
              "      <th>apartment_building_count_in_sites</th>\n",
              "      <th>bathroom_count</th>\n",
              "      <th>exclusive_use_area</th>\n",
              "      <th>...</th>\n",
              "      <th>district</th>\n",
              "      <th>individual</th>\n",
              "      <th>cogeneration</th>\n",
              "      <th>gas</th>\n",
              "      <th>corridor</th>\n",
              "      <th>mixed</th>\n",
              "      <th>stairway</th>\n",
              "      <th>Busan</th>\n",
              "      <th>Seoul</th>\n",
              "      <th>transaction_real_price</th>\n",
              "    </tr>\n",
              "  </thead>\n",
              "  <tbody>\n",
              "    <tr>\n",
              "      <th>1605365</th>\n",
              "      <td>0.998999</td>\n",
              "      <td>1.0</td>\n",
              "      <td>0.660452</td>\n",
              "      <td>0.019259</td>\n",
              "      <td>0.47619</td>\n",
              "      <td>1.000000</td>\n",
              "      <td>0.964286</td>\n",
              "      <td>0.008130</td>\n",
              "      <td>0.50</td>\n",
              "      <td>0.277970</td>\n",
              "      <td>...</td>\n",
              "      <td>0.0</td>\n",
              "      <td>1.0</td>\n",
              "      <td>0.0</td>\n",
              "      <td>1.0</td>\n",
              "      <td>0.0</td>\n",
              "      <td>0.0</td>\n",
              "      <td>1.0</td>\n",
              "      <td>0.0</td>\n",
              "      <td>1.0</td>\n",
              "      <td>0</td>\n",
              "    </tr>\n",
              "    <tr>\n",
              "      <th>1605366</th>\n",
              "      <td>0.999313</td>\n",
              "      <td>1.0</td>\n",
              "      <td>0.659955</td>\n",
              "      <td>0.001754</td>\n",
              "      <td>0.00000</td>\n",
              "      <td>1.000000</td>\n",
              "      <td>0.964286</td>\n",
              "      <td>0.008130</td>\n",
              "      <td>0.25</td>\n",
              "      <td>0.063231</td>\n",
              "      <td>...</td>\n",
              "      <td>0.0</td>\n",
              "      <td>1.0</td>\n",
              "      <td>0.0</td>\n",
              "      <td>1.0</td>\n",
              "      <td>0.0</td>\n",
              "      <td>0.0</td>\n",
              "      <td>1.0</td>\n",
              "      <td>0.0</td>\n",
              "      <td>1.0</td>\n",
              "      <td>0</td>\n",
              "    </tr>\n",
              "    <tr>\n",
              "      <th>1605367</th>\n",
              "      <td>0.999327</td>\n",
              "      <td>0.0</td>\n",
              "      <td>0.660194</td>\n",
              "      <td>0.889407</td>\n",
              "      <td>0.00000</td>\n",
              "      <td>1.000000</td>\n",
              "      <td>0.946429</td>\n",
              "      <td>0.162602</td>\n",
              "      <td>0.50</td>\n",
              "      <td>0.467836</td>\n",
              "      <td>...</td>\n",
              "      <td>0.0</td>\n",
              "      <td>1.0</td>\n",
              "      <td>0.0</td>\n",
              "      <td>1.0</td>\n",
              "      <td>0.0</td>\n",
              "      <td>0.0</td>\n",
              "      <td>1.0</td>\n",
              "      <td>1.0</td>\n",
              "      <td>0.0</td>\n",
              "      <td>0</td>\n",
              "    </tr>\n",
              "    <tr>\n",
              "      <th>1605368</th>\n",
              "      <td>0.999955</td>\n",
              "      <td>1.0</td>\n",
              "      <td>0.737669</td>\n",
              "      <td>0.010506</td>\n",
              "      <td>1.00000</td>\n",
              "      <td>1.000000</td>\n",
              "      <td>0.982143</td>\n",
              "      <td>0.032520</td>\n",
              "      <td>0.50</td>\n",
              "      <td>0.178478</td>\n",
              "      <td>...</td>\n",
              "      <td>0.0</td>\n",
              "      <td>1.0</td>\n",
              "      <td>0.0</td>\n",
              "      <td>1.0</td>\n",
              "      <td>0.0</td>\n",
              "      <td>0.0</td>\n",
              "      <td>1.0</td>\n",
              "      <td>0.0</td>\n",
              "      <td>1.0</td>\n",
              "      <td>0</td>\n",
              "    </tr>\n",
              "    <tr>\n",
              "      <th>1605375</th>\n",
              "      <td>0.992744</td>\n",
              "      <td>0.0</td>\n",
              "      <td>0.739579</td>\n",
              "      <td>0.896410</td>\n",
              "      <td>0.47619</td>\n",
              "      <td>0.998886</td>\n",
              "      <td>0.982143</td>\n",
              "      <td>0.000000</td>\n",
              "      <td>0.50</td>\n",
              "      <td>0.137560</td>\n",
              "      <td>...</td>\n",
              "      <td>0.0</td>\n",
              "      <td>1.0</td>\n",
              "      <td>0.0</td>\n",
              "      <td>1.0</td>\n",
              "      <td>0.0</td>\n",
              "      <td>0.0</td>\n",
              "      <td>1.0</td>\n",
              "      <td>1.0</td>\n",
              "      <td>0.0</td>\n",
              "      <td>0</td>\n",
              "    </tr>\n",
              "  </tbody>\n",
              "</table>\n",
              "<p>5 rows × 33 columns</p>\n",
              "</div>"
            ],
            "text/plain": [
              "              key  city  apartment_id  address_by_law  transaction_date  \\\n",
              "1605365  0.998999   1.0      0.660452        0.019259           0.47619   \n",
              "1605366  0.999313   1.0      0.659955        0.001754           0.00000   \n",
              "1605367  0.999327   0.0      0.660194        0.889407           0.00000   \n",
              "1605368  0.999955   1.0      0.737669        0.010506           1.00000   \n",
              "1605375  0.992744   0.0      0.739579        0.896410           0.47619   \n",
              "\n",
              "         transaction_year_month  year_of_completion  \\\n",
              "1605365                1.000000            0.964286   \n",
              "1605366                1.000000            0.964286   \n",
              "1605367                1.000000            0.946429   \n",
              "1605368                1.000000            0.982143   \n",
              "1605375                0.998886            0.982143   \n",
              "\n",
              "         apartment_building_count_in_sites  bathroom_count  \\\n",
              "1605365                           0.008130            0.50   \n",
              "1605366                           0.008130            0.25   \n",
              "1605367                           0.162602            0.50   \n",
              "1605368                           0.032520            0.50   \n",
              "1605375                           0.000000            0.50   \n",
              "\n",
              "         exclusive_use_area           ...            district  individual  \\\n",
              "1605365            0.277970           ...                 0.0         1.0   \n",
              "1605366            0.063231           ...                 0.0         1.0   \n",
              "1605367            0.467836           ...                 0.0         1.0   \n",
              "1605368            0.178478           ...                 0.0         1.0   \n",
              "1605375            0.137560           ...                 0.0         1.0   \n",
              "\n",
              "         cogeneration  gas  corridor  mixed  stairway  Busan  Seoul  \\\n",
              "1605365           0.0  1.0       0.0    0.0       1.0    0.0    1.0   \n",
              "1605366           0.0  1.0       0.0    0.0       1.0    0.0    1.0   \n",
              "1605367           0.0  1.0       0.0    0.0       1.0    1.0    0.0   \n",
              "1605368           0.0  1.0       0.0    0.0       1.0    0.0    1.0   \n",
              "1605375           0.0  1.0       0.0    0.0       1.0    1.0    0.0   \n",
              "\n",
              "         transaction_real_price  \n",
              "1605365                       0  \n",
              "1605366                       0  \n",
              "1605367                       0  \n",
              "1605368                       0  \n",
              "1605375                       0  \n",
              "\n",
              "[5 rows x 33 columns]"
            ]
          },
          "metadata": {
            "tags": []
          },
          "execution_count": 21
        }
      ]
    },
    {
      "metadata": {
        "id": "TyRcq1kqRF-1",
        "colab_type": "text"
      },
      "cell_type": "markdown",
      "source": [
        ""
      ]
    },
    {
      "metadata": {
        "id": "ozwmKwHbZ1da",
        "colab_type": "code",
        "outputId": "a4665c5c-96b2-42b5-9cd1-8d31839a109d",
        "colab": {
          "base_uri": "https://localhost:8080/",
          "height": 212
        }
      },
      "cell_type": "code",
      "source": [
        "train.columns"
      ],
      "execution_count": 0,
      "outputs": [
        {
          "output_type": "execute_result",
          "data": {
            "text/plain": [
              "Index(['key', 'city', 'apartment_id', 'address_by_law', 'transaction_date',\n",
              "       'transaction_year_month', 'year_of_completion',\n",
              "       'apartment_building_count_in_sites', 'bathroom_count',\n",
              "       'exclusive_use_area', 'floor', 'latitude', 'longitude', 'room_count',\n",
              "       'room_id', 'supply_area', 'tallest_building_in_sites',\n",
              "       'lowest_building_in_sites', 'total_household_count_in_sites',\n",
              "       'total_household_count_of_area_type', 'total_parking_capacity_in_site',\n",
              "       'mortgage_loan', 'central', 'district', 'individual', 'cogeneration',\n",
              "       'gas', 'corridor', 'mixed', 'stairway', 'Busan', 'Seoul',\n",
              "       'transaction_real_price'],\n",
              "      dtype='object')"
            ]
          },
          "metadata": {
            "tags": []
          },
          "execution_count": 22
        }
      ]
    },
    {
      "metadata": {
        "id": "chtdRRRra1bb",
        "colab_type": "code",
        "colab": {}
      },
      "cell_type": "code",
      "source": [
        "train_data = train[['year_of_completion',\n",
        "       'supply_area', 'floor',\n",
        "       'mortgage_loan','central','district',\n",
        "       'Busan', 'Seoul']]\n",
        "train_targets = train[['transaction_real_price']]"
      ],
      "execution_count": 0,
      "outputs": []
    },
    {
      "metadata": {
        "id": "hIOTovGwa_xK",
        "colab_type": "code",
        "outputId": "2fe4d0ad-7ac2-45d3-a7ca-3d16bdf3e32e",
        "colab": {
          "base_uri": "https://localhost:8080/",
          "height": 177
        }
      },
      "cell_type": "code",
      "source": [
        "# train_data\n",
        "np.isnan(train_data).sum()\n",
        "# train_targets.head()"
      ],
      "execution_count": 0,
      "outputs": [
        {
          "output_type": "execute_result",
          "data": {
            "text/plain": [
              "year_of_completion    0\n",
              "supply_area           0\n",
              "floor                 0\n",
              "mortgage_loan         0\n",
              "central               0\n",
              "district              0\n",
              "Busan                 0\n",
              "Seoul                 0\n",
              "dtype: int64"
            ]
          },
          "metadata": {
            "tags": []
          },
          "execution_count": 59
        }
      ]
    },
    {
      "metadata": {
        "id": "3XaRvgKGbM2C",
        "colab_type": "code",
        "outputId": "a36d50ae-71ee-4f3e-94bc-47cca41df173",
        "colab": {
          "base_uri": "https://localhost:8080/",
          "height": 212
        }
      },
      "cell_type": "code",
      "source": [
        "test.columns"
      ],
      "execution_count": 0,
      "outputs": [
        {
          "output_type": "execute_result",
          "data": {
            "text/plain": [
              "Index(['key', 'city', 'apartment_id', 'address_by_law', 'transaction_date',\n",
              "       'transaction_year_month', 'year_of_completion',\n",
              "       'apartment_building_count_in_sites', 'bathroom_count',\n",
              "       'exclusive_use_area', 'floor', 'latitude', 'longitude', 'room_count',\n",
              "       'room_id', 'supply_area', 'tallest_building_in_sites',\n",
              "       'lowest_building_in_sites', 'total_household_count_in_sites',\n",
              "       'total_household_count_of_area_type', 'total_parking_capacity_in_site',\n",
              "       'mortgage_loan', 'central', 'district', 'individual', 'cogeneration',\n",
              "       'gas', 'corridor', 'mixed', 'stairway', 'Busan', 'Seoul',\n",
              "       'transaction_real_price'],\n",
              "      dtype='object')"
            ]
          },
          "metadata": {
            "tags": []
          },
          "execution_count": 24
        }
      ]
    },
    {
      "metadata": {
        "id": "GP2V7U1TbPXE",
        "colab_type": "code",
        "colab": {}
      },
      "cell_type": "code",
      "source": [
        "test_data = test[['year_of_completion',\n",
        "       'supply_area', 'floor',\n",
        "       'mortgage_loan','central','district',\n",
        "       'Busan', 'Seoul']]\n",
        "\n",
        "# test_data = test[['year_of_completion',\n",
        "#        'apartment_building_count_in_sites', 'bathroom_count',\n",
        "#        'exclusive_use_area', 'floor', 'room_count',\n",
        "#        'tallest_building_in_sites', 'total_household_count_in_sites',\n",
        "#        'mortgage_loan', 'parking_per_household','central', 'district',\n",
        "#        'individual', 'cogeneration', 'gas', 'corridor', 'mixed', 'stairway',\n",
        "#        'busan', 'seoul']]\n",
        "test_targets = test[['transaction_real_price']]"
      ],
      "execution_count": 0,
      "outputs": []
    },
    {
      "metadata": {
        "id": "ZBhkgSw-bRoc",
        "colab_type": "code",
        "outputId": "1b1d84ad-ef90-49ae-ce4d-9377f2619a81",
        "colab": {
          "base_uri": "https://localhost:8080/",
          "height": 35
        }
      },
      "cell_type": "code",
      "source": [
        "test_data.shape\n",
        "# test_targets.head()"
      ],
      "execution_count": 0,
      "outputs": [
        {
          "output_type": "execute_result",
          "data": {
            "text/plain": [
              "(3918, 8)"
            ]
          },
          "metadata": {
            "tags": []
          },
          "execution_count": 77
        }
      ]
    },
    {
      "metadata": {
        "id": "lJCB83nZbT-I",
        "colab_type": "code",
        "outputId": "8330730e-2a05-40c0-9b93-bddc5d21e811",
        "colab": {
          "base_uri": "https://localhost:8080/",
          "height": 241
        }
      },
      "cell_type": "code",
      "source": [
        "train_data = train_data.as_matrix()\n",
        "train_targets = train_targets.as_matrix()\n",
        "# train_targets=train_targets.flatten()\n",
        "test_data = test_data.as_matrix()\n",
        "test_targets = test_targets.as_matrix()\n",
        "# test_targets = test_targets.flatten()"
      ],
      "execution_count": 0,
      "outputs": [
        {
          "output_type": "error",
          "ename": "AttributeError",
          "evalue": "ignored",
          "traceback": [
            "\u001b[0;31m---------------------------------------------------------------------------\u001b[0m",
            "\u001b[0;31mAttributeError\u001b[0m                            Traceback (most recent call last)",
            "\u001b[0;32m<ipython-input-78-9bd380e817a2>\u001b[0m in \u001b[0;36m<module>\u001b[0;34m()\u001b[0m\n\u001b[0;32m----> 1\u001b[0;31m \u001b[0mtrain_data\u001b[0m \u001b[0;34m=\u001b[0m \u001b[0mtrain_data\u001b[0m\u001b[0;34m.\u001b[0m\u001b[0mas_matrix\u001b[0m\u001b[0;34m(\u001b[0m\u001b[0;34m)\u001b[0m\u001b[0;34m\u001b[0m\u001b[0;34m\u001b[0m\u001b[0m\n\u001b[0m\u001b[1;32m      2\u001b[0m \u001b[0mtrain_targets\u001b[0m \u001b[0;34m=\u001b[0m \u001b[0mtrain_targets\u001b[0m\u001b[0;34m.\u001b[0m\u001b[0mas_matrix\u001b[0m\u001b[0;34m(\u001b[0m\u001b[0;34m)\u001b[0m\u001b[0;34m\u001b[0m\u001b[0;34m\u001b[0m\u001b[0m\n\u001b[1;32m      3\u001b[0m \u001b[0;31m# train_targets=train_targets.flatten()\u001b[0m\u001b[0;34m\u001b[0m\u001b[0;34m\u001b[0m\u001b[0;34m\u001b[0m\u001b[0m\n\u001b[1;32m      4\u001b[0m \u001b[0mtest_data\u001b[0m \u001b[0;34m=\u001b[0m \u001b[0mtest_data\u001b[0m\u001b[0;34m.\u001b[0m\u001b[0mas_matrix\u001b[0m\u001b[0;34m(\u001b[0m\u001b[0;34m)\u001b[0m\u001b[0;34m\u001b[0m\u001b[0;34m\u001b[0m\u001b[0m\n\u001b[1;32m      5\u001b[0m \u001b[0mtest_targets\u001b[0m \u001b[0;34m=\u001b[0m \u001b[0mtest_targets\u001b[0m\u001b[0;34m.\u001b[0m\u001b[0mas_matrix\u001b[0m\u001b[0;34m(\u001b[0m\u001b[0;34m)\u001b[0m\u001b[0;34m\u001b[0m\u001b[0;34m\u001b[0m\u001b[0m\n",
            "\u001b[0;31mAttributeError\u001b[0m: 'numpy.ndarray' object has no attribute 'as_matrix'"
          ]
        }
      ]
    },
    {
      "metadata": {
        "id": "kTuVCEi7bYH8",
        "colab_type": "code",
        "outputId": "e7c34d01-56a2-4a92-b319-3ce5cec009f7",
        "colab": {
          "base_uri": "https://localhost:8080/",
          "height": 35
        }
      },
      "cell_type": "code",
      "source": [
        "train_data.shape[1]\n",
        "# test_targets.shape\n",
        "# type(y_train)\n",
        "\n",
        "# test_targets\n"
      ],
      "execution_count": 0,
      "outputs": [
        {
          "output_type": "execute_result",
          "data": {
            "text/plain": [
              "8"
            ]
          },
          "metadata": {
            "tags": []
          },
          "execution_count": 79
        }
      ]
    },
    {
      "metadata": {
        "id": "-Yp1kk6GlvJB",
        "colab_type": "code",
        "colab": {}
      },
      "cell_type": "code",
      "source": [
        "#     model.add(LeakyReLU(alpha=0.05))\n",
        "#     model.add(BatchNormalization())\n",
        "# #     model.add(Dropout(0.25))\n",
        "#     model.add(layers.Dense(128,kernel_initializer='normal')) # 0.001\n",
        "#     model.add(LeakyReLU(alpha=0.05))\n",
        "#     model.add(BatchNormalization())\n",
        "# #     model.add(Dropout(0.25))\n",
        "#     model.add(layers.Dense(128,kernel_initializer='normal')) # 0.001\n",
        "#     model.add(LeakyReLU(alpha=0.05))\n",
        "#     model.add(BatchNormalization())\n",
        "# #     model.add(Dropout(0.25))\n",
        "#     model.add(layers.Dense(128,kernel_initializer='normal')) # 0.001\n",
        "#     model.add(LeakyReLU(alpha=0.05))\n",
        "#     model.add(BatchNormalization())\n",
        "# #     model.add(Dropout(0.25))\n",
        "#     model.add(layers.Dense(128,kernel_initializer='normal')) # 0.001\n",
        "#     model.add(LeakyReLU(alpha=0.05))\n",
        "#     model.add(BatchNormalization())\n",
        "# #     model.add(Dropout(0.25))\n",
        "#     model.add(layers.Dense(1))\n",
        "# #     opt = keras.optimizers.rmsprop(lr=0.00045,decay=1e-5) # 0.015 0.01 \n",
        "# #     opt = keras.optimizers.Adam(lr=0.000005)\n",
        "# #     opt = SGD(lr=0.00001, decay=1e-6, momentum=0.9, nesterov=True,clipnorm=100)"
      ],
      "execution_count": 0,
      "outputs": []
    },
    {
      "metadata": {
        "id": "ZyHQQEVdcdCR",
        "colab_type": "code",
        "colab": {}
      },
      "cell_type": "code",
      "source": [
        "from sklearn.model_selection import train_test_split \n",
        "\n",
        "\n",
        "x_train, x_valid, y_train, y_valid = train_test_split(train_data, train_targets, test_size = 0.3, random_state = 1,shuffle = True )"
      ],
      "execution_count": 0,
      "outputs": []
    },
    {
      "metadata": {
        "id": "m9hgC0E_Ld43",
        "colab_type": "code",
        "outputId": "13c522fb-fa6c-45b7-bffd-a90f7021c1bc",
        "colab": {
          "base_uri": "https://localhost:8080/",
          "height": 188
        }
      },
      "cell_type": "code",
      "source": [
        "x_train.shape\n",
        "# x_train"
      ],
      "execution_count": 0,
      "outputs": [
        {
          "output_type": "error",
          "ename": "NameError",
          "evalue": "ignored",
          "traceback": [
            "\u001b[0;31m---------------------------------------------------------------------------\u001b[0m",
            "\u001b[0;31mNameError\u001b[0m                                 Traceback (most recent call last)",
            "\u001b[0;32m<ipython-input-11-51283f796d2a>\u001b[0m in \u001b[0;36m<module>\u001b[0;34m()\u001b[0m\n\u001b[0;32m----> 1\u001b[0;31m \u001b[0mx_train\u001b[0m\u001b[0;34m.\u001b[0m\u001b[0mshape\u001b[0m\u001b[0;34m\u001b[0m\u001b[0;34m\u001b[0m\u001b[0m\n\u001b[0m\u001b[1;32m      2\u001b[0m \u001b[0;31m# x_train\u001b[0m\u001b[0;34m\u001b[0m\u001b[0;34m\u001b[0m\u001b[0;34m\u001b[0m\u001b[0m\n",
            "\u001b[0;31mNameError\u001b[0m: name 'x_train' is not defined"
          ]
        }
      ]
    },
    {
      "metadata": {
        "id": "4itEKMacRqkY",
        "colab_type": "code",
        "colab": {}
      },
      "cell_type": "code",
      "source": [
        "from keras import models\n",
        "from keras import layers \n",
        "from keras import backend as K\n",
        "from keras.layers import Dense, Dropout, BatchNormalization, Activation\n",
        "from keras.models import Sequential\n",
        "from keras import regularizers\n",
        "from keras.layers import LeakyReLU\n",
        "from keras.optimizers import SGD, RMSprop, Adagrad, Adadelta, Adam, Adamax\n",
        "from keras.callbacks import EarlyStopping # epoch마다 모델을 학습시킨 후에 호출하는 콜백함수.조기종료 기능 \n",
        "import sys\n",
        "\n",
        "def root_mean_squared_error(y_true, y_pred):\n",
        "        return K.sqrt(K.mean(K.square(y_pred - y_true),axis=-1))"
      ],
      "execution_count": 0,
      "outputs": []
    },
    {
      "metadata": {
        "id": "6r-SWhGBsI6E",
        "colab_type": "code",
        "outputId": "9530caca-5d9f-47b7-d00d-7e1574d3c51c",
        "colab": {
          "base_uri": "https://localhost:8080/",
          "height": 52
        }
      },
      "cell_type": "code",
      "source": [
        "early_stopping = EarlyStopping(patience = 10) # 조기종료 콜백함수 정의\n",
        "\n",
        "\n",
        "def build_model():\n",
        "    # 동일한 모델을 여러 번 생성할 것이므로 함수를 만들어 사용합니다\n",
        "    model = models.Sequential()\n",
        "    act = keras.layers.advanced_activations.PReLU(alpha_initializer=\"zero\", weights=None)\n",
        "    model.add(layers.Dense(20,\n",
        "                           input_shape=(train_data.shape[1],),kernel_initializer='normal')) # 0.001\n",
        "    model.add(act)\n",
        "    model.add(layers.Dense(20,kernel_initializer='normal'))\n",
        "    model.add(act)\n",
        "    model.add(layers.Dense(1))\n",
        "    model.compile(optimizer='adam',loss=root_mean_squared_error, metrics=['mae'])\n",
        "    return model\n",
        "  \n",
        "# num_epochs = 100\n",
        "model = build_model()\n",
        "\n",
        "\n",
        "# hist = model.fit(x_train,y_train,\n",
        "#           epochs=80, batch_size=5000, validation_data=(x_valid,y_valid),verbose=1,callbacks=[early_stopping])"
      ],
      "execution_count": 0,
      "outputs": [
        {
          "output_type": "stream",
          "text": [
            "/usr/local/lib/python3.6/dist-packages/ipykernel_launcher.py:7: UserWarning: Update your `PReLU` call to the Keras 2 API: `PReLU(weights=None, alpha_initializer=\"zero\")`\n",
            "  import sys\n"
          ],
          "name": "stderr"
        }
      ]
    },
    {
      "metadata": {
        "id": "Lf5is4IjhQwa",
        "colab_type": "code",
        "outputId": "dff4df80-164d-4ee3-e7eb-b96905028f50",
        "colab": {
          "base_uri": "https://localhost:8080/",
          "height": 1190
        }
      },
      "cell_type": "code",
      "source": [
        "import numpy as np\n",
        "from keras.callbacks import EarlyStopping\n",
        "early_stopping = EarlyStopping() # 조기종료 콜백함수 정의\n",
        "\n",
        "k = 4\n",
        "num_val_samples = len(train_data) // k\n",
        "num_epochs = 7\n",
        "all_mae_histories = []\n",
        "for i in range(k):\n",
        "    print('처리중인 폴드 #', i)\n",
        "    # 검증 데이터 준비: k번째 분할\n",
        "    val_data = train_data[i * num_val_samples: (i + 1) * num_val_samples]\n",
        "    val_targets = train_targets[i * num_val_samples: (i + 1) * num_val_samples]\n",
        "\n",
        "    # 훈련 데이터 준비: 다른 분할 전체\n",
        "    partial_train_data = np.concatenate(\n",
        "        [train_data[:i * num_val_samples],\n",
        "         train_data[(i + 1) * num_val_samples:]],\n",
        "        axis=0)\n",
        "    partial_train_targets = np.concatenate(\n",
        "        [train_targets[:i * num_val_samples],\n",
        "         train_targets[(i + 1) * num_val_samples:]],\n",
        "        axis=0)\n",
        "\n",
        "    # 케라스 모델 구성(컴파일 포함)\n",
        "    model = build_model()\n",
        "    # 모델 훈련(verbose=0 이므로 훈련 과정이 출력되지 않습니다)\n",
        "    history=model.fit(partial_train_data, partial_train_targets,\n",
        "              validation_data=(val_data,val_targets),\n",
        "              epochs=num_epochs, batch_size=500, verbose=1)\n",
        "    mae_history = history.history['val_mean_absolute_error']\n",
        "    all_mae_histories.append(mae_history)\n",
        "    # 검증 세트로 모델 평가\n",
        "#     val_mse, val_mae = model.evaluate(val_data, val_targets, verbose=0)\n",
        "#     all_scores.append(val_mae)"
      ],
      "execution_count": 0,
      "outputs": [
        {
          "output_type": "stream",
          "text": [
            "처리중인 폴드 # 0\n"
          ],
          "name": "stdout"
        },
        {
          "output_type": "stream",
          "text": [
            "/usr/local/lib/python3.6/dist-packages/ipykernel_launcher.py:7: UserWarning: Update your `PReLU` call to the Keras 2 API: `PReLU(weights=None, alpha_initializer=\"zero\")`\n",
            "  import sys\n"
          ],
          "name": "stderr"
        },
        {
          "output_type": "stream",
          "text": [
            "Train on 1201094 samples, validate on 400364 samples\n",
            "Epoch 1/7\n",
            "1201094/1201094 [==============================] - 25s 21us/step - loss: 436304575.7194 - mean_absolute_error: 436304575.7194 - val_loss: 297579122.5524 - val_mean_absolute_error: 297579122.5524\n",
            "Epoch 2/7\n",
            "1201094/1201094 [==============================] - 18s 15us/step - loss: 429263482.1562 - mean_absolute_error: 429263482.1562 - val_loss: 278994165.9899 - val_mean_absolute_error: 278994165.9899\n",
            "Epoch 3/7\n",
            "1201094/1201094 [==============================] - 18s 15us/step - loss: 392857695.9945 - mean_absolute_error: 392857695.9945 - val_loss: 213873770.6605 - val_mean_absolute_error: 213873770.6605\n",
            "Epoch 4/7\n",
            "1201094/1201094 [==============================] - 18s 15us/step - loss: 302036380.4516 - mean_absolute_error: 302036380.4516 - val_loss: 161465215.0402 - val_mean_absolute_error: 161465215.0402\n",
            "Epoch 5/7\n",
            "1201094/1201094 [==============================] - 18s 15us/step - loss: 214724230.9666 - mean_absolute_error: 214724230.9666 - val_loss: 198915515.4898 - val_mean_absolute_error: 198915515.4898\n",
            "Epoch 6/7\n",
            "1201094/1201094 [==============================] - 18s 15us/step - loss: 191906908.3975 - mean_absolute_error: 191906908.3975 - val_loss: 204847848.7966 - val_mean_absolute_error: 204847848.7966\n",
            "Epoch 7/7\n",
            "1201094/1201094 [==============================] - 18s 15us/step - loss: 185234307.9548 - mean_absolute_error: 185234307.9548 - val_loss: 199337648.8672 - val_mean_absolute_error: 199337648.8672\n",
            "처리중인 폴드 # 1\n",
            "Train on 1201094 samples, validate on 400364 samples\n",
            "Epoch 1/7\n",
            "1201094/1201094 [==============================] - 25s 21us/step - loss: 417970590.0464 - mean_absolute_error: 417970590.0464 - val_loss: 351057515.7659 - val_mean_absolute_error: 351057515.7659\n",
            "Epoch 2/7\n",
            "1201094/1201094 [==============================] - 18s 15us/step - loss: 404553129.6218 - mean_absolute_error: 404553129.6218 - val_loss: 317809626.8343 - val_mean_absolute_error: 317809626.8343\n",
            "Epoch 3/7\n",
            "1201094/1201094 [==============================] - 18s 15us/step - loss: 337904112.8476 - mean_absolute_error: 337904112.8476 - val_loss: 212661132.7507 - val_mean_absolute_error: 212661132.7507\n",
            "Epoch 4/7\n",
            "1201094/1201094 [==============================] - 18s 15us/step - loss: 238315540.0824 - mean_absolute_error: 238315540.0824 - val_loss: 160409681.4532 - val_mean_absolute_error: 160409681.4532\n",
            "Epoch 5/7\n",
            "1201094/1201094 [==============================] - 18s 15us/step - loss: 202822713.5243 - mean_absolute_error: 202822713.5243 - val_loss: 159296189.0445 - val_mean_absolute_error: 159296189.0445\n",
            "Epoch 6/7\n",
            "1201094/1201094 [==============================] - 18s 15us/step - loss: 195088083.2033 - mean_absolute_error: 195088083.2033 - val_loss: 151996583.0731 - val_mean_absolute_error: 151996583.0731\n",
            "Epoch 7/7\n",
            "1201094/1201094 [==============================] - 18s 15us/step - loss: 188504131.5846 - mean_absolute_error: 188504131.5846 - val_loss: 144904363.1666 - val_mean_absolute_error: 144904363.1666\n",
            "처리중인 폴드 # 2\n",
            "Train on 1201094 samples, validate on 400364 samples\n",
            "Epoch 1/7\n",
            "1201094/1201094 [==============================] - 25s 21us/step - loss: 399858071.4677 - mean_absolute_error: 399858071.4677 - val_loss: 408125226.4556 - val_mean_absolute_error: 408125226.4556\n",
            "Epoch 2/7\n",
            "1201094/1201094 [==============================] - 18s 15us/step - loss: 396821677.4790 - mean_absolute_error: 396821677.4790 - val_loss: 401728978.4415 - val_mean_absolute_error: 401728978.4415\n",
            "Epoch 3/7\n",
            "1201094/1201094 [==============================] - 18s 15us/step - loss: 382589731.2579 - mean_absolute_error: 382589731.2579 - val_loss: 379706966.7514 - val_mean_absolute_error: 379706966.7514\n",
            "Epoch 4/7\n",
            "1201094/1201094 [==============================] - 18s 15us/step - loss: 345078703.4822 - mean_absolute_error: 345078703.4822 - val_loss: 329308691.3905 - val_mean_absolute_error: 329308691.3905\n",
            "Epoch 5/7\n",
            "1201094/1201094 [==============================] - 18s 15us/step - loss: 282753773.7001 - mean_absolute_error: 282753773.7001 - val_loss: 250002246.9939 - val_mean_absolute_error: 250002246.9939\n",
            "Epoch 6/7\n",
            "1201094/1201094 [==============================] - 18s 15us/step - loss: 227024411.7371 - mean_absolute_error: 227024411.7371 - val_loss: 186055481.3909 - val_mean_absolute_error: 186055481.3909\n",
            "Epoch 7/7\n",
            "1201094/1201094 [==============================] - 18s 15us/step - loss: 204587212.5623 - mean_absolute_error: 204587212.5623 - val_loss: 164352892.8180 - val_mean_absolute_error: 164352892.8180\n",
            "처리중인 폴드 # 3\n",
            "Train on 1201094 samples, validate on 400364 samples\n",
            "Epoch 1/7\n",
            "1201094/1201094 [==============================] - 25s 21us/step - loss: 353520294.3806 - mean_absolute_error: 353520294.3806 - val_loss: 546606089.8617 - val_mean_absolute_error: 546606089.8617\n",
            "Epoch 2/7\n",
            "1201094/1201094 [==============================] - 18s 15us/step - loss: 348351523.6276 - mean_absolute_error: 348351523.6276 - val_loss: 535222703.0575 - val_mean_absolute_error: 535222703.0575\n",
            "Epoch 3/7\n",
            "1201094/1201094 [==============================] - 18s 15us/step - loss: 322336642.3245 - mean_absolute_error: 322336642.3245 - val_loss: 493799579.1316 - val_mean_absolute_error: 493799579.1316\n",
            "Epoch 4/7\n",
            "1201094/1201094 [==============================] - 18s 15us/step - loss: 258386015.5804 - mean_absolute_error: 258386015.5804 - val_loss: 406691781.8334 - val_mean_absolute_error: 406691781.8334\n",
            "Epoch 5/7\n",
            "1201094/1201094 [==============================] - 18s 15us/step - loss: 190736676.7859 - mean_absolute_error: 190736676.7859 - val_loss: 315164350.1722 - val_mean_absolute_error: 315164350.1722\n",
            "Epoch 6/7\n",
            "1201094/1201094 [==============================] - 18s 15us/step - loss: 167771738.3370 - mean_absolute_error: 167771738.3370 - val_loss: 283270367.5910 - val_mean_absolute_error: 283270367.5910\n",
            "Epoch 7/7\n",
            "1201094/1201094 [==============================] - 18s 15us/step - loss: 161762839.5755 - mean_absolute_error: 161762839.5755 - val_loss: 274947461.1488 - val_mean_absolute_error: 274947461.1488\n"
          ],
          "name": "stdout"
        }
      ]
    },
    {
      "metadata": {
        "id": "Gfu8orhb3xq1",
        "colab_type": "code",
        "colab": {}
      },
      "cell_type": "code",
      "source": [
        "average_mae_history = [\n",
        "    np.mean([x[i] for x in all_mae_histories]) for i in range(num_epochs)]"
      ],
      "execution_count": 0,
      "outputs": []
    },
    {
      "metadata": {
        "id": "4ZJfMEX43z4y",
        "colab_type": "code",
        "outputId": "4e9ffa55-f6b8-4745-f9eb-9746f180e5d9",
        "colab": {
          "base_uri": "https://localhost:8080/",
          "height": 372
        }
      },
      "cell_type": "code",
      "source": [
        "import matplotlib.pyplot as plt\n",
        "\n",
        "plt.plot(range(1, len(average_mae_history) + 1), average_mae_history)\n",
        "plt.xlabel('Epochs')\n",
        "plt.ylabel('Validation MAE')\n",
        "plt.show()"
      ],
      "execution_count": 0,
      "outputs": [
        {
          "output_type": "display_data",
          "data": {
            "image/png": "[encoded data removed]",
            "text/plain": [
              "<Figure size 576x396 with 1 Axes>"
            ]
          },
          "metadata": {
            "tags": []
          }
        }
      ]
    },
    {
      "metadata": {
        "id": "WgNplkJy39WS",
        "colab_type": "code",
        "outputId": "ed2890cd-9300-4cd5-eb3f-4eaac9bf9089",
        "colab": {
          "base_uri": "https://localhost:8080/",
          "height": 284
        }
      },
      "cell_type": "code",
      "source": [
        "# 새롭게 컴파인된 모델을 얻습니다\n",
        "model = build_model()\n",
        "# 전체 데이터로 훈련시킵니다\n",
        "model.fit(train_data, train_targets,\n",
        "          epochs=6, batch_size=100, verbose=1)\n",
        "test_mse_score, test_mae_score = model.evaluate(test_data, test_targets)"
      ],
      "execution_count": 0,
      "outputs": [
        {
          "output_type": "stream",
          "text": [
            "/usr/local/lib/python3.6/dist-packages/ipykernel_launcher.py:7: UserWarning: Update your `PReLU` call to the Keras 2 API: `PReLU(weights=None, alpha_initializer=\"zero\")`\n",
            "  import sys\n"
          ],
          "name": "stderr"
        },
        {
          "output_type": "stream",
          "text": [
            "Epoch 1/6\n",
            "1601458/1601458 [==============================] - 105s 66us/step - loss: 291477019.0452 - mean_absolute_error: 291477019.0452\n",
            "Epoch 2/6\n",
            "1601458/1601458 [==============================] - 98s 61us/step - loss: 170066203.3712 - mean_absolute_error: 170066203.3712\n",
            "Epoch 3/6\n",
            "1601458/1601458 [==============================] - 98s 61us/step - loss: 152252938.9688 - mean_absolute_error: 152252938.9688\n",
            "Epoch 4/6\n",
            "1601458/1601458 [==============================] - 98s 61us/step - loss: 140255421.5456 - mean_absolute_error: 140255421.5456\n",
            "Epoch 5/6\n",
            "1601458/1601458 [==============================] - 98s 61us/step - loss: 131171035.5112 - mean_absolute_error: 131171035.5112\n",
            "Epoch 6/6\n",
            "1601458/1601458 [==============================] - 98s 61us/step - loss: 124603259.0620 - mean_absolute_error: 124603259.0620\n",
            "3918/3918 [==============================] - 3s 883us/step\n"
          ],
          "name": "stdout"
        }
      ]
    },
    {
      "metadata": {
        "id": "qLdOfz9V5J3T",
        "colab_type": "code",
        "outputId": "c4a7ee24-de07-4ce9-ff02-d2d28b90c1d1",
        "colab": {
          "base_uri": "https://localhost:8080/",
          "height": 35
        }
      },
      "cell_type": "code",
      "source": [
        "test_mse_score"
      ],
      "execution_count": 0,
      "outputs": [
        {
          "output_type": "execute_result",
          "data": {
            "text/plain": [
              "490001794.9729454"
            ]
          },
          "metadata": {
            "tags": []
          },
          "execution_count": 107
        }
      ]
    },
    {
      "metadata": {
        "id": "cz7h_SHJzy2Y",
        "colab_type": "code",
        "outputId": "34f26ed0-eae6-4978-b04c-1d398e53a124",
        "colab": {
          "base_uri": "https://localhost:8080/",
          "height": 35
        }
      },
      "cell_type": "code",
      "source": [
        "all_scores\n",
        "np.mean(all_scores)"
      ],
      "execution_count": 0,
      "outputs": [
        {
          "output_type": "execute_result",
          "data": {
            "text/plain": [
              "nan"
            ]
          },
          "metadata": {
            "tags": []
          },
          "execution_count": 41
        }
      ]
    },
    {
      "metadata": {
        "id": "bhjw1VShz-pF",
        "colab_type": "code",
        "colab": {}
      },
      "cell_type": "code",
      "source": [
        "from keras import backend as K\n",
        "\n",
        "# 메모리 해제\n",
        "K.clear_session()"
      ],
      "execution_count": 0,
      "outputs": []
    },
    {
      "metadata": {
        "id": "qav-BXgPQJJ0",
        "colab_type": "code",
        "outputId": "5b680e66-3359-4535-d9d0-161dc011d417",
        "colab": {
          "base_uri": "https://localhost:8080/",
          "height": 36
        }
      },
      "cell_type": "code",
      "source": [
        "# 검증세트로 모델 평가 \n",
        "test_rmse_score, test_mae_score = model.evaluate(x_valid, y_valid, verbose = 1)"
      ],
      "execution_count": 0,
      "outputs": [
        {
          "output_type": "stream",
          "text": [
            "480438/480438 [==============================] - 57s 118us/step\n"
          ],
          "name": "stdout"
        }
      ]
    },
    {
      "metadata": {
        "id": "2lVWWDNWdC9l",
        "colab_type": "code",
        "outputId": "d139af3a-522c-447e-8478-0bb85788ef25",
        "colab": {
          "base_uri": "https://localhost:8080/",
          "height": 35
        }
      },
      "cell_type": "code",
      "source": [
        "prediction = model.predict(test_data, batch_size = 1, verbose = 1, steps = None)"
      ],
      "execution_count": 0,
      "outputs": [
        {
          "output_type": "stream",
          "text": [
            "3918/3918 [==============================] - 14s 4ms/step\n"
          ],
          "name": "stdout"
        }
      ]
    },
    {
      "metadata": {
        "id": "b9hxkET2gyPp",
        "colab_type": "code",
        "colab": {}
      },
      "cell_type": "code",
      "source": [
        "submission_file=pd.DataFrame(prediction, columns = [\"transaction_real_price\"])\n",
        "\n",
        "# len(prediction)"
      ],
      "execution_count": 0,
      "outputs": []
    },
    {
      "metadata": {
        "id": "stPJL6MWfoSz",
        "colab_type": "code",
        "colab": {}
      },
      "cell_type": "code",
      "source": [
        "submission_file\n",
        "submission_file.to_csv('./Colab Notebooks/DACON_submission/submission2.csv', encoding = 'utf-8')"
      ],
      "execution_count": 0,
      "outputs": []
    },
    {
      "metadata": {
        "id": "n0BBcxdUhkdB",
        "colab_type": "code",
        "colab": {}
      },
      "cell_type": "code",
      "source": [
        "submission = pd.read_csv('./Colab Notebooks/data/submission.csv')"
      ],
      "execution_count": 0,
      "outputs": []
    },
    {
      "metadata": {
        "id": "JTEFE-sPRd-_",
        "colab_type": "code",
        "outputId": "630d2b6d-f360-4319-cf01-4e7ce148fdb7",
        "colab": {
          "base_uri": "https://localhost:8080/",
          "height": 1949
        }
      },
      "cell_type": "code",
      "source": [
        "submission"
      ],
      "execution_count": 0,
      "outputs": [
        {
          "output_type": "execute_result",
          "data": {
            "text/html": [
              "<div>\n",
              "<style scoped>\n",
              "    .dataframe tbody tr th:only-of-type {\n",
              "        vertical-align: middle;\n",
              "    }\n",
              "\n",
              "    .dataframe tbody tr th {\n",
              "        vertical-align: top;\n",
              "    }\n",
              "\n",
              "    .dataframe thead th {\n",
              "        text-align: right;\n",
              "    }\n",
              "</style>\n",
              "<table border=\"1\" class=\"dataframe\">\n",
              "  <thead>\n",
              "    <tr style=\"text-align: right;\">\n",
              "      <th></th>\n",
              "      <th>key</th>\n",
              "      <th>transaction_real_price</th>\n",
              "    </tr>\n",
              "  </thead>\n",
              "  <tbody>\n",
              "    <tr>\n",
              "      <th>0</th>\n",
              "      <td>462533</td>\n",
              "      <td>0</td>\n",
              "    </tr>\n",
              "    <tr>\n",
              "      <th>1</th>\n",
              "      <td>764018</td>\n",
              "      <td>0</td>\n",
              "    </tr>\n",
              "    <tr>\n",
              "      <th>2</th>\n",
              "      <td>813528</td>\n",
              "      <td>0</td>\n",
              "    </tr>\n",
              "    <tr>\n",
              "      <th>3</th>\n",
              "      <td>845097</td>\n",
              "      <td>0</td>\n",
              "    </tr>\n",
              "    <tr>\n",
              "      <th>4</th>\n",
              "      <td>856338</td>\n",
              "      <td>0</td>\n",
              "    </tr>\n",
              "    <tr>\n",
              "      <th>5</th>\n",
              "      <td>977181</td>\n",
              "      <td>0</td>\n",
              "    </tr>\n",
              "    <tr>\n",
              "      <th>6</th>\n",
              "      <td>1037012</td>\n",
              "      <td>0</td>\n",
              "    </tr>\n",
              "    <tr>\n",
              "      <th>7</th>\n",
              "      <td>1158117</td>\n",
              "      <td>0</td>\n",
              "    </tr>\n",
              "    <tr>\n",
              "      <th>8</th>\n",
              "      <td>1204038</td>\n",
              "      <td>0</td>\n",
              "    </tr>\n",
              "    <tr>\n",
              "      <th>9</th>\n",
              "      <td>1204146</td>\n",
              "      <td>0</td>\n",
              "    </tr>\n",
              "    <tr>\n",
              "      <th>10</th>\n",
              "      <td>1253422</td>\n",
              "      <td>0</td>\n",
              "    </tr>\n",
              "    <tr>\n",
              "      <th>11</th>\n",
              "      <td>1369751</td>\n",
              "      <td>0</td>\n",
              "    </tr>\n",
              "    <tr>\n",
              "      <th>12</th>\n",
              "      <td>1379723</td>\n",
              "      <td>0</td>\n",
              "    </tr>\n",
              "    <tr>\n",
              "      <th>13</th>\n",
              "      <td>1389544</td>\n",
              "      <td>0</td>\n",
              "    </tr>\n",
              "    <tr>\n",
              "      <th>14</th>\n",
              "      <td>1394472</td>\n",
              "      <td>0</td>\n",
              "    </tr>\n",
              "    <tr>\n",
              "      <th>15</th>\n",
              "      <td>1395869</td>\n",
              "      <td>0</td>\n",
              "    </tr>\n",
              "    <tr>\n",
              "      <th>16</th>\n",
              "      <td>1411847</td>\n",
              "      <td>0</td>\n",
              "    </tr>\n",
              "    <tr>\n",
              "      <th>17</th>\n",
              "      <td>1419442</td>\n",
              "      <td>0</td>\n",
              "    </tr>\n",
              "    <tr>\n",
              "      <th>18</th>\n",
              "      <td>1435592</td>\n",
              "      <td>0</td>\n",
              "    </tr>\n",
              "    <tr>\n",
              "      <th>19</th>\n",
              "      <td>1436429</td>\n",
              "      <td>0</td>\n",
              "    </tr>\n",
              "    <tr>\n",
              "      <th>20</th>\n",
              "      <td>1438962</td>\n",
              "      <td>0</td>\n",
              "    </tr>\n",
              "    <tr>\n",
              "      <th>21</th>\n",
              "      <td>1444406</td>\n",
              "      <td>0</td>\n",
              "    </tr>\n",
              "    <tr>\n",
              "      <th>22</th>\n",
              "      <td>1445883</td>\n",
              "      <td>0</td>\n",
              "    </tr>\n",
              "    <tr>\n",
              "      <th>23</th>\n",
              "      <td>1450094</td>\n",
              "      <td>0</td>\n",
              "    </tr>\n",
              "    <tr>\n",
              "      <th>24</th>\n",
              "      <td>1452779</td>\n",
              "      <td>0</td>\n",
              "    </tr>\n",
              "    <tr>\n",
              "      <th>25</th>\n",
              "      <td>1458536</td>\n",
              "      <td>0</td>\n",
              "    </tr>\n",
              "    <tr>\n",
              "      <th>26</th>\n",
              "      <td>1459610</td>\n",
              "      <td>0</td>\n",
              "    </tr>\n",
              "    <tr>\n",
              "      <th>27</th>\n",
              "      <td>1460129</td>\n",
              "      <td>0</td>\n",
              "    </tr>\n",
              "    <tr>\n",
              "      <th>28</th>\n",
              "      <td>1462023</td>\n",
              "      <td>0</td>\n",
              "    </tr>\n",
              "    <tr>\n",
              "      <th>29</th>\n",
              "      <td>1462947</td>\n",
              "      <td>0</td>\n",
              "    </tr>\n",
              "    <tr>\n",
              "      <th>...</th>\n",
              "      <td>...</td>\n",
              "      <td>...</td>\n",
              "    </tr>\n",
              "    <tr>\n",
              "      <th>3888</th>\n",
              "      <td>1605340</td>\n",
              "      <td>0</td>\n",
              "    </tr>\n",
              "    <tr>\n",
              "      <th>3889</th>\n",
              "      <td>1605341</td>\n",
              "      <td>0</td>\n",
              "    </tr>\n",
              "    <tr>\n",
              "      <th>3890</th>\n",
              "      <td>1605343</td>\n",
              "      <td>0</td>\n",
              "    </tr>\n",
              "    <tr>\n",
              "      <th>3891</th>\n",
              "      <td>1605345</td>\n",
              "      <td>0</td>\n",
              "    </tr>\n",
              "    <tr>\n",
              "      <th>3892</th>\n",
              "      <td>1605347</td>\n",
              "      <td>0</td>\n",
              "    </tr>\n",
              "    <tr>\n",
              "      <th>3893</th>\n",
              "      <td>1605348</td>\n",
              "      <td>0</td>\n",
              "    </tr>\n",
              "    <tr>\n",
              "      <th>3894</th>\n",
              "      <td>1605349</td>\n",
              "      <td>0</td>\n",
              "    </tr>\n",
              "    <tr>\n",
              "      <th>3895</th>\n",
              "      <td>1605350</td>\n",
              "      <td>0</td>\n",
              "    </tr>\n",
              "    <tr>\n",
              "      <th>3896</th>\n",
              "      <td>1605351</td>\n",
              "      <td>0</td>\n",
              "    </tr>\n",
              "    <tr>\n",
              "      <th>3897</th>\n",
              "      <td>1605352</td>\n",
              "      <td>0</td>\n",
              "    </tr>\n",
              "    <tr>\n",
              "      <th>3898</th>\n",
              "      <td>1605353</td>\n",
              "      <td>0</td>\n",
              "    </tr>\n",
              "    <tr>\n",
              "      <th>3899</th>\n",
              "      <td>1605354</td>\n",
              "      <td>0</td>\n",
              "    </tr>\n",
              "    <tr>\n",
              "      <th>3900</th>\n",
              "      <td>1605355</td>\n",
              "      <td>0</td>\n",
              "    </tr>\n",
              "    <tr>\n",
              "      <th>3901</th>\n",
              "      <td>1605357</td>\n",
              "      <td>0</td>\n",
              "    </tr>\n",
              "    <tr>\n",
              "      <th>3902</th>\n",
              "      <td>1605358</td>\n",
              "      <td>0</td>\n",
              "    </tr>\n",
              "    <tr>\n",
              "      <th>3903</th>\n",
              "      <td>1605359</td>\n",
              "      <td>0</td>\n",
              "    </tr>\n",
              "    <tr>\n",
              "      <th>3904</th>\n",
              "      <td>1605360</td>\n",
              "      <td>0</td>\n",
              "    </tr>\n",
              "    <tr>\n",
              "      <th>3905</th>\n",
              "      <td>1605361</td>\n",
              "      <td>0</td>\n",
              "    </tr>\n",
              "    <tr>\n",
              "      <th>3906</th>\n",
              "      <td>1605362</td>\n",
              "      <td>0</td>\n",
              "    </tr>\n",
              "    <tr>\n",
              "      <th>3907</th>\n",
              "      <td>1605363</td>\n",
              "      <td>0</td>\n",
              "    </tr>\n",
              "    <tr>\n",
              "      <th>3908</th>\n",
              "      <td>1605364</td>\n",
              "      <td>0</td>\n",
              "    </tr>\n",
              "    <tr>\n",
              "      <th>3909</th>\n",
              "      <td>1605365</td>\n",
              "      <td>0</td>\n",
              "    </tr>\n",
              "    <tr>\n",
              "      <th>3910</th>\n",
              "      <td>1605367</td>\n",
              "      <td>0</td>\n",
              "    </tr>\n",
              "    <tr>\n",
              "      <th>3911</th>\n",
              "      <td>1605368</td>\n",
              "      <td>0</td>\n",
              "    </tr>\n",
              "    <tr>\n",
              "      <th>3912</th>\n",
              "      <td>1605369</td>\n",
              "      <td>0</td>\n",
              "    </tr>\n",
              "    <tr>\n",
              "      <th>3913</th>\n",
              "      <td>1605370</td>\n",
              "      <td>0</td>\n",
              "    </tr>\n",
              "    <tr>\n",
              "      <th>3914</th>\n",
              "      <td>1605371</td>\n",
              "      <td>0</td>\n",
              "    </tr>\n",
              "    <tr>\n",
              "      <th>3915</th>\n",
              "      <td>1605372</td>\n",
              "      <td>0</td>\n",
              "    </tr>\n",
              "    <tr>\n",
              "      <th>3916</th>\n",
              "      <td>1605374</td>\n",
              "      <td>0</td>\n",
              "    </tr>\n",
              "    <tr>\n",
              "      <th>3917</th>\n",
              "      <td>1605375</td>\n",
              "      <td>0</td>\n",
              "    </tr>\n",
              "  </tbody>\n",
              "</table>\n",
              "<p>3918 rows × 2 columns</p>\n",
              "</div>"
            ],
            "text/plain": [
              "          key  transaction_real_price\n",
              "0      462533                       0\n",
              "1      764018                       0\n",
              "2      813528                       0\n",
              "3      845097                       0\n",
              "4      856338                       0\n",
              "5      977181                       0\n",
              "6     1037012                       0\n",
              "7     1158117                       0\n",
              "8     1204038                       0\n",
              "9     1204146                       0\n",
              "10    1253422                       0\n",
              "11    1369751                       0\n",
              "12    1379723                       0\n",
              "13    1389544                       0\n",
              "14    1394472                       0\n",
              "15    1395869                       0\n",
              "16    1411847                       0\n",
              "17    1419442                       0\n",
              "18    1435592                       0\n",
              "19    1436429                       0\n",
              "20    1438962                       0\n",
              "21    1444406                       0\n",
              "22    1445883                       0\n",
              "23    1450094                       0\n",
              "24    1452779                       0\n",
              "25    1458536                       0\n",
              "26    1459610                       0\n",
              "27    1460129                       0\n",
              "28    1462023                       0\n",
              "29    1462947                       0\n",
              "...       ...                     ...\n",
              "3888  1605340                       0\n",
              "3889  1605341                       0\n",
              "3890  1605343                       0\n",
              "3891  1605345                       0\n",
              "3892  1605347                       0\n",
              "3893  1605348                       0\n",
              "3894  1605349                       0\n",
              "3895  1605350                       0\n",
              "3896  1605351                       0\n",
              "3897  1605352                       0\n",
              "3898  1605353                       0\n",
              "3899  1605354                       0\n",
              "3900  1605355                       0\n",
              "3901  1605357                       0\n",
              "3902  1605358                       0\n",
              "3903  1605359                       0\n",
              "3904  1605360                       0\n",
              "3905  1605361                       0\n",
              "3906  1605362                       0\n",
              "3907  1605363                       0\n",
              "3908  1605364                       0\n",
              "3909  1605365                       0\n",
              "3910  1605367                       0\n",
              "3911  1605368                       0\n",
              "3912  1605369                       0\n",
              "3913  1605370                       0\n",
              "3914  1605371                       0\n",
              "3915  1605372                       0\n",
              "3916  1605374                       0\n",
              "3917  1605375                       0\n",
              "\n",
              "[3918 rows x 2 columns]"
            ]
          },
          "metadata": {
            "tags": []
          },
          "execution_count": 231
        }
      ]
    },
    {
      "metadata": {
        "id": "Q39-2n8Nht-4",
        "colab_type": "code",
        "colab": {}
      },
      "cell_type": "code",
      "source": [
        "submission['transaction_real_price'] = submission_file['transaction_real_price']"
      ],
      "execution_count": 0,
      "outputs": []
    },
    {
      "metadata": {
        "id": "Y7lknjh2h1Al",
        "colab_type": "code",
        "colab": {}
      },
      "cell_type": "code",
      "source": [
        "submission.set_index('key',inplace = True)"
      ],
      "execution_count": 0,
      "outputs": []
    },
    {
      "metadata": {
        "id": "ugAXq5YOiIYM",
        "colab_type": "code",
        "outputId": "18930b0b-bb74-493f-8eb3-fdf020ac5531",
        "colab": {
          "base_uri": "https://localhost:8080/",
          "height": 1979
        }
      },
      "cell_type": "code",
      "source": [
        "submission"
      ],
      "execution_count": 0,
      "outputs": [
        {
          "output_type": "execute_result",
          "data": {
            "text/html": [
              "<div>\n",
              "<style scoped>\n",
              "    .dataframe tbody tr th:only-of-type {\n",
              "        vertical-align: middle;\n",
              "    }\n",
              "\n",
              "    .dataframe tbody tr th {\n",
              "        vertical-align: top;\n",
              "    }\n",
              "\n",
              "    .dataframe thead th {\n",
              "        text-align: right;\n",
              "    }\n",
              "</style>\n",
              "<table border=\"1\" class=\"dataframe\">\n",
              "  <thead>\n",
              "    <tr style=\"text-align: right;\">\n",
              "      <th></th>\n",
              "      <th>transaction_real_price</th>\n",
              "    </tr>\n",
              "    <tr>\n",
              "      <th>key</th>\n",
              "      <th></th>\n",
              "    </tr>\n",
              "  </thead>\n",
              "  <tbody>\n",
              "    <tr>\n",
              "      <th>462533</th>\n",
              "      <td>208501312.0</td>\n",
              "    </tr>\n",
              "    <tr>\n",
              "      <th>764018</th>\n",
              "      <td>318036992.0</td>\n",
              "    </tr>\n",
              "    <tr>\n",
              "      <th>813528</th>\n",
              "      <td>449501824.0</td>\n",
              "    </tr>\n",
              "    <tr>\n",
              "      <th>845097</th>\n",
              "      <td>275408736.0</td>\n",
              "    </tr>\n",
              "    <tr>\n",
              "      <th>856338</th>\n",
              "      <td>381425696.0</td>\n",
              "    </tr>\n",
              "    <tr>\n",
              "      <th>977181</th>\n",
              "      <td>331613984.0</td>\n",
              "    </tr>\n",
              "    <tr>\n",
              "      <th>1037012</th>\n",
              "      <td>391199200.0</td>\n",
              "    </tr>\n",
              "    <tr>\n",
              "      <th>1158117</th>\n",
              "      <td>383378048.0</td>\n",
              "    </tr>\n",
              "    <tr>\n",
              "      <th>1204038</th>\n",
              "      <td>498104416.0</td>\n",
              "    </tr>\n",
              "    <tr>\n",
              "      <th>1204146</th>\n",
              "      <td>296985760.0</td>\n",
              "    </tr>\n",
              "    <tr>\n",
              "      <th>1253422</th>\n",
              "      <td>423156640.0</td>\n",
              "    </tr>\n",
              "    <tr>\n",
              "      <th>1369751</th>\n",
              "      <td>240856688.0</td>\n",
              "    </tr>\n",
              "    <tr>\n",
              "      <th>1379723</th>\n",
              "      <td>674719936.0</td>\n",
              "    </tr>\n",
              "    <tr>\n",
              "      <th>1389544</th>\n",
              "      <td>369219264.0</td>\n",
              "    </tr>\n",
              "    <tr>\n",
              "      <th>1394472</th>\n",
              "      <td>324872192.0</td>\n",
              "    </tr>\n",
              "    <tr>\n",
              "      <th>1395869</th>\n",
              "      <td>348859584.0</td>\n",
              "    </tr>\n",
              "    <tr>\n",
              "      <th>1411847</th>\n",
              "      <td>269703456.0</td>\n",
              "    </tr>\n",
              "    <tr>\n",
              "      <th>1419442</th>\n",
              "      <td>232464048.0</td>\n",
              "    </tr>\n",
              "    <tr>\n",
              "      <th>1435592</th>\n",
              "      <td>416204288.0</td>\n",
              "    </tr>\n",
              "    <tr>\n",
              "      <th>1436429</th>\n",
              "      <td>387804512.0</td>\n",
              "    </tr>\n",
              "    <tr>\n",
              "      <th>1438962</th>\n",
              "      <td>338172672.0</td>\n",
              "    </tr>\n",
              "    <tr>\n",
              "      <th>1444406</th>\n",
              "      <td>431643648.0</td>\n",
              "    </tr>\n",
              "    <tr>\n",
              "      <th>1445883</th>\n",
              "      <td>348855104.0</td>\n",
              "    </tr>\n",
              "    <tr>\n",
              "      <th>1450094</th>\n",
              "      <td>277654368.0</td>\n",
              "    </tr>\n",
              "    <tr>\n",
              "      <th>1452779</th>\n",
              "      <td>371410240.0</td>\n",
              "    </tr>\n",
              "    <tr>\n",
              "      <th>1458536</th>\n",
              "      <td>375729312.0</td>\n",
              "    </tr>\n",
              "    <tr>\n",
              "      <th>1459610</th>\n",
              "      <td>357300224.0</td>\n",
              "    </tr>\n",
              "    <tr>\n",
              "      <th>1460129</th>\n",
              "      <td>398738144.0</td>\n",
              "    </tr>\n",
              "    <tr>\n",
              "      <th>1462023</th>\n",
              "      <td>348519616.0</td>\n",
              "    </tr>\n",
              "    <tr>\n",
              "      <th>1462947</th>\n",
              "      <td>248296544.0</td>\n",
              "    </tr>\n",
              "    <tr>\n",
              "      <th>...</th>\n",
              "      <td>...</td>\n",
              "    </tr>\n",
              "    <tr>\n",
              "      <th>1605340</th>\n",
              "      <td>585385280.0</td>\n",
              "    </tr>\n",
              "    <tr>\n",
              "      <th>1605341</th>\n",
              "      <td>356134880.0</td>\n",
              "    </tr>\n",
              "    <tr>\n",
              "      <th>1605343</th>\n",
              "      <td>234490576.0</td>\n",
              "    </tr>\n",
              "    <tr>\n",
              "      <th>1605345</th>\n",
              "      <td>371025888.0</td>\n",
              "    </tr>\n",
              "    <tr>\n",
              "      <th>1605347</th>\n",
              "      <td>581512064.0</td>\n",
              "    </tr>\n",
              "    <tr>\n",
              "      <th>1605348</th>\n",
              "      <td>392426816.0</td>\n",
              "    </tr>\n",
              "    <tr>\n",
              "      <th>1605349</th>\n",
              "      <td>398131520.0</td>\n",
              "    </tr>\n",
              "    <tr>\n",
              "      <th>1605350</th>\n",
              "      <td>453599264.0</td>\n",
              "    </tr>\n",
              "    <tr>\n",
              "      <th>1605351</th>\n",
              "      <td>328143296.0</td>\n",
              "    </tr>\n",
              "    <tr>\n",
              "      <th>1605352</th>\n",
              "      <td>325976448.0</td>\n",
              "    </tr>\n",
              "    <tr>\n",
              "      <th>1605353</th>\n",
              "      <td>531396192.0</td>\n",
              "    </tr>\n",
              "    <tr>\n",
              "      <th>1605354</th>\n",
              "      <td>337164096.0</td>\n",
              "    </tr>\n",
              "    <tr>\n",
              "      <th>1605355</th>\n",
              "      <td>537881600.0</td>\n",
              "    </tr>\n",
              "    <tr>\n",
              "      <th>1605357</th>\n",
              "      <td>353625056.0</td>\n",
              "    </tr>\n",
              "    <tr>\n",
              "      <th>1605358</th>\n",
              "      <td>339801248.0</td>\n",
              "    </tr>\n",
              "    <tr>\n",
              "      <th>1605359</th>\n",
              "      <td>462706176.0</td>\n",
              "    </tr>\n",
              "    <tr>\n",
              "      <th>1605360</th>\n",
              "      <td>403770432.0</td>\n",
              "    </tr>\n",
              "    <tr>\n",
              "      <th>1605361</th>\n",
              "      <td>426116928.0</td>\n",
              "    </tr>\n",
              "    <tr>\n",
              "      <th>1605362</th>\n",
              "      <td>519343456.0</td>\n",
              "    </tr>\n",
              "    <tr>\n",
              "      <th>1605363</th>\n",
              "      <td>360799424.0</td>\n",
              "    </tr>\n",
              "    <tr>\n",
              "      <th>1605364</th>\n",
              "      <td>443938560.0</td>\n",
              "    </tr>\n",
              "    <tr>\n",
              "      <th>1605365</th>\n",
              "      <td>391167040.0</td>\n",
              "    </tr>\n",
              "    <tr>\n",
              "      <th>1605367</th>\n",
              "      <td>571022528.0</td>\n",
              "    </tr>\n",
              "    <tr>\n",
              "      <th>1605368</th>\n",
              "      <td>361857984.0</td>\n",
              "    </tr>\n",
              "    <tr>\n",
              "      <th>1605369</th>\n",
              "      <td>439367232.0</td>\n",
              "    </tr>\n",
              "    <tr>\n",
              "      <th>1605370</th>\n",
              "      <td>427947200.0</td>\n",
              "    </tr>\n",
              "    <tr>\n",
              "      <th>1605371</th>\n",
              "      <td>340731776.0</td>\n",
              "    </tr>\n",
              "    <tr>\n",
              "      <th>1605372</th>\n",
              "      <td>827459456.0</td>\n",
              "    </tr>\n",
              "    <tr>\n",
              "      <th>1605374</th>\n",
              "      <td>414322272.0</td>\n",
              "    </tr>\n",
              "    <tr>\n",
              "      <th>1605375</th>\n",
              "      <td>318207616.0</td>\n",
              "    </tr>\n",
              "  </tbody>\n",
              "</table>\n",
              "<p>3918 rows × 1 columns</p>\n",
              "</div>"
            ],
            "text/plain": [
              "         transaction_real_price\n",
              "key                            \n",
              "462533              208501312.0\n",
              "764018              318036992.0\n",
              "813528              449501824.0\n",
              "845097              275408736.0\n",
              "856338              381425696.0\n",
              "977181              331613984.0\n",
              "1037012             391199200.0\n",
              "1158117             383378048.0\n",
              "1204038             498104416.0\n",
              "1204146             296985760.0\n",
              "1253422             423156640.0\n",
              "1369751             240856688.0\n",
              "1379723             674719936.0\n",
              "1389544             369219264.0\n",
              "1394472             324872192.0\n",
              "1395869             348859584.0\n",
              "1411847             269703456.0\n",
              "1419442             232464048.0\n",
              "1435592             416204288.0\n",
              "1436429             387804512.0\n",
              "1438962             338172672.0\n",
              "1444406             431643648.0\n",
              "1445883             348855104.0\n",
              "1450094             277654368.0\n",
              "1452779             371410240.0\n",
              "1458536             375729312.0\n",
              "1459610             357300224.0\n",
              "1460129             398738144.0\n",
              "1462023             348519616.0\n",
              "1462947             248296544.0\n",
              "...                         ...\n",
              "1605340             585385280.0\n",
              "1605341             356134880.0\n",
              "1605343             234490576.0\n",
              "1605345             371025888.0\n",
              "1605347             581512064.0\n",
              "1605348             392426816.0\n",
              "1605349             398131520.0\n",
              "1605350             453599264.0\n",
              "1605351             328143296.0\n",
              "1605352             325976448.0\n",
              "1605353             531396192.0\n",
              "1605354             337164096.0\n",
              "1605355             537881600.0\n",
              "1605357             353625056.0\n",
              "1605358             339801248.0\n",
              "1605359             462706176.0\n",
              "1605360             403770432.0\n",
              "1605361             426116928.0\n",
              "1605362             519343456.0\n",
              "1605363             360799424.0\n",
              "1605364             443938560.0\n",
              "1605365             391167040.0\n",
              "1605367             571022528.0\n",
              "1605368             361857984.0\n",
              "1605369             439367232.0\n",
              "1605370             427947200.0\n",
              "1605371             340731776.0\n",
              "1605372             827459456.0\n",
              "1605374             414322272.0\n",
              "1605375             318207616.0\n",
              "\n",
              "[3918 rows x 1 columns]"
            ]
          },
          "metadata": {
            "tags": []
          },
          "execution_count": 236
        }
      ]
    },
    {
      "metadata": {
        "id": "m4Wm_pxmit5y",
        "colab_type": "code",
        "colab": {}
      },
      "cell_type": "code",
      "source": [
        "submission.to_csv('./Colab Notebooks/DACON_submission/submission.csv', encoding = 'utf-8')"
      ],
      "execution_count": 0,
      "outputs": []
    },
    {
      "metadata": {
        "id": "LS9kjCHMjbvW",
        "colab_type": "code",
        "colab": {}
      },
      "cell_type": "code",
      "source": [
        ""
      ],
      "execution_count": 0,
      "outputs": []
    }
  ]
}