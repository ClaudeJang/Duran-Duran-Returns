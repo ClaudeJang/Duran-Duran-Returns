{
  "nbformat": 4,
  "nbformat_minor": 0,
  "metadata": {
    "colab": {
      "name": "데이터전처리(1/21) 및 도출.ipynb",
      "version": "0.3.2",
      "provenance": [],
      "collapsed_sections": [],
      "include_colab_link": true
    },
    "kernelspec": {
      "display_name": "Python 3",
      "language": "python",
      "name": "python3"
    }
  },
  "cells": [
    {
      "cell_type": "markdown",
      "metadata": {
        "id": "view-in-github",
        "colab_type": "text"
      },
      "source": [
        "<a href=\"https://colab.research.google.com/github/ClaudeJang/Duran-Duran-Returns/blob/master/%EB%8D%B0%EC%9D%B4%ED%84%B0%EC%A0%84%EC%B2%98%EB%A6%AC(1_21)_%EB%B0%8F_%EB%8F%84%EC%B6%9C.ipynb\" target=\"_parent\"><img src=\"https://colab.research.google.com/assets/colab-badge.svg\" alt=\"Open In Colab\"/></a>"
      ]
    },
    {
      "metadata": {
        "id": "orje5tv4y8uo",
        "colab_type": "code",
        "outputId": "84365080-95c4-41ee-a811-841bb48e837d",
        "colab": {
          "base_uri": "https://localhost:8080/",
          "height": 1053
        }
      },
      "cell_type": "code",
      "source": [
        "# 처음 실행할 때 한 번만! \n",
        "!apt-get install -y -qq software-properties-common python-software-properties module-init-tools\n",
        "\n",
        "!add-apt-repository -y ppa:alessandro-strada/ppa 2>&1 > /dev/null\n",
        "\n",
        "!apt-get update -qq 2>&1 > /dev/null\n",
        "\n",
        "!apt-get -y install -qq google-drive-ocamlfuse fuse\n",
        "\n",
        "from google.colab import auth\n",
        "\n",
        "auth.authenticate_user()\n",
        "\n",
        "from oauth2client.client import GoogleCredentials\n",
        "\n",
        "creds = GoogleCredentials.get_application_default()\n",
        "\n",
        "import getpass\n",
        "\n",
        "!google-drive-ocamlfuse -headless -id={creds.client_id} -secret={creds.client_secret} < /dev/null 2>&1 | grep URL\n",
        "\n",
        "vcode = getpass.getpass()\n",
        "\n",
        "!echo {vcode} | google-drive-ocamlfuse -headless -id={creds.client_id} -secret={creds.client_secret}"
      ],
      "execution_count": 2,
      "outputs": [
        {
          "output_type": "stream",
          "text": [
            "E: Package 'python-software-properties' has no installation candidate\n"
          ],
          "name": "stdout"
        },
        {
          "output_type": "error",
          "ename": "KeyboardInterrupt",
          "evalue": "ignored",
          "traceback": [
            "\u001b[0;31m---------------------------------------------------------------------------\u001b[0m",
            "\u001b[0;31mKeyboardInterrupt\u001b[0m                         Traceback (most recent call last)",
            "\u001b[0;32m/usr/local/lib/python3.6/dist-packages/ipykernel/kernelbase.py\u001b[0m in \u001b[0;36m_input_request\u001b[0;34m(self, prompt, ident, parent, password)\u001b[0m\n\u001b[1;32m    729\u001b[0m             \u001b[0;32mtry\u001b[0m\u001b[0;34m:\u001b[0m\u001b[0;34m\u001b[0m\u001b[0;34m\u001b[0m\u001b[0m\n\u001b[0;32m--> 730\u001b[0;31m                 \u001b[0mident\u001b[0m\u001b[0;34m,\u001b[0m \u001b[0mreply\u001b[0m \u001b[0;34m=\u001b[0m \u001b[0mself\u001b[0m\u001b[0;34m.\u001b[0m\u001b[0msession\u001b[0m\u001b[0;34m.\u001b[0m\u001b[0mrecv\u001b[0m\u001b[0;34m(\u001b[0m\u001b[0mself\u001b[0m\u001b[0;34m.\u001b[0m\u001b[0mstdin_socket\u001b[0m\u001b[0;34m,\u001b[0m \u001b[0;36m0\u001b[0m\u001b[0;34m)\u001b[0m\u001b[0;34m\u001b[0m\u001b[0;34m\u001b[0m\u001b[0m\n\u001b[0m\u001b[1;32m    731\u001b[0m             \u001b[0;32mexcept\u001b[0m \u001b[0mException\u001b[0m\u001b[0;34m:\u001b[0m\u001b[0;34m\u001b[0m\u001b[0;34m\u001b[0m\u001b[0m\n",
            "\u001b[0;32m/usr/local/lib/python3.6/dist-packages/jupyter_client/session.py\u001b[0m in \u001b[0;36mrecv\u001b[0;34m(self, socket, mode, content, copy)\u001b[0m\n\u001b[1;32m    802\u001b[0m         \u001b[0;32mtry\u001b[0m\u001b[0;34m:\u001b[0m\u001b[0;34m\u001b[0m\u001b[0;34m\u001b[0m\u001b[0m\n\u001b[0;32m--> 803\u001b[0;31m             \u001b[0mmsg_list\u001b[0m \u001b[0;34m=\u001b[0m \u001b[0msocket\u001b[0m\u001b[0;34m.\u001b[0m\u001b[0mrecv_multipart\u001b[0m\u001b[0;34m(\u001b[0m\u001b[0mmode\u001b[0m\u001b[0;34m,\u001b[0m \u001b[0mcopy\u001b[0m\u001b[0;34m=\u001b[0m\u001b[0mcopy\u001b[0m\u001b[0;34m)\u001b[0m\u001b[0;34m\u001b[0m\u001b[0;34m\u001b[0m\u001b[0m\n\u001b[0m\u001b[1;32m    804\u001b[0m         \u001b[0;32mexcept\u001b[0m \u001b[0mzmq\u001b[0m\u001b[0;34m.\u001b[0m\u001b[0mZMQError\u001b[0m \u001b[0;32mas\u001b[0m \u001b[0me\u001b[0m\u001b[0;34m:\u001b[0m\u001b[0;34m\u001b[0m\u001b[0;34m\u001b[0m\u001b[0m\n",
            "\u001b[0;32m/usr/local/lib/python3.6/dist-packages/zmq/sugar/socket.py\u001b[0m in \u001b[0;36mrecv_multipart\u001b[0;34m(self, flags, copy, track)\u001b[0m\n\u001b[1;32m    465\u001b[0m         \"\"\"\n\u001b[0;32m--> 466\u001b[0;31m         \u001b[0mparts\u001b[0m \u001b[0;34m=\u001b[0m \u001b[0;34m[\u001b[0m\u001b[0mself\u001b[0m\u001b[0;34m.\u001b[0m\u001b[0mrecv\u001b[0m\u001b[0;34m(\u001b[0m\u001b[0mflags\u001b[0m\u001b[0;34m,\u001b[0m \u001b[0mcopy\u001b[0m\u001b[0;34m=\u001b[0m\u001b[0mcopy\u001b[0m\u001b[0;34m,\u001b[0m \u001b[0mtrack\u001b[0m\u001b[0;34m=\u001b[0m\u001b[0mtrack\u001b[0m\u001b[0;34m)\u001b[0m\u001b[0;34m]\u001b[0m\u001b[0;34m\u001b[0m\u001b[0;34m\u001b[0m\u001b[0m\n\u001b[0m\u001b[1;32m    467\u001b[0m         \u001b[0;31m# have first part already, only loop while more to receive\u001b[0m\u001b[0;34m\u001b[0m\u001b[0;34m\u001b[0m\u001b[0;34m\u001b[0m\u001b[0m\n",
            "\u001b[0;32mzmq/backend/cython/socket.pyx\u001b[0m in \u001b[0;36mzmq.backend.cython.socket.Socket.recv\u001b[0;34m()\u001b[0m\n",
            "\u001b[0;32mzmq/backend/cython/socket.pyx\u001b[0m in \u001b[0;36mzmq.backend.cython.socket.Socket.recv\u001b[0;34m()\u001b[0m\n",
            "\u001b[0;32mzmq/backend/cython/socket.pyx\u001b[0m in \u001b[0;36mzmq.backend.cython.socket._recv_copy\u001b[0;34m()\u001b[0m\n",
            "\u001b[0;32m/usr/local/lib/python3.6/dist-packages/zmq/backend/cython/checkrc.pxd\u001b[0m in \u001b[0;36mzmq.backend.cython.checkrc._check_rc\u001b[0;34m()\u001b[0m\n",
            "\u001b[0;31mKeyboardInterrupt\u001b[0m: ",
            "\nDuring handling of the above exception, another exception occurred:\n",
            "\u001b[0;31mKeyboardInterrupt\u001b[0m                         Traceback (most recent call last)",
            "\u001b[0;32m<ipython-input-2-8bed5433f1fe>\u001b[0m in \u001b[0;36m<module>\u001b[0;34m()\u001b[0m\n\u001b[1;32m     19\u001b[0m \u001b[0mget_ipython\u001b[0m\u001b[0;34m(\u001b[0m\u001b[0;34m)\u001b[0m\u001b[0;34m.\u001b[0m\u001b[0msystem\u001b[0m\u001b[0;34m(\u001b[0m\u001b[0;34m'google-drive-ocamlfuse -headless -id={creds.client_id} -secret={creds.client_secret} < /dev/null 2>&1 | grep URL'\u001b[0m\u001b[0;34m)\u001b[0m\u001b[0;34m\u001b[0m\u001b[0;34m\u001b[0m\u001b[0m\n\u001b[1;32m     20\u001b[0m \u001b[0;34m\u001b[0m\u001b[0m\n\u001b[0;32m---> 21\u001b[0;31m \u001b[0mvcode\u001b[0m \u001b[0;34m=\u001b[0m \u001b[0mgetpass\u001b[0m\u001b[0;34m.\u001b[0m\u001b[0mgetpass\u001b[0m\u001b[0;34m(\u001b[0m\u001b[0;34m)\u001b[0m\u001b[0;34m\u001b[0m\u001b[0;34m\u001b[0m\u001b[0m\n\u001b[0m\u001b[1;32m     22\u001b[0m \u001b[0;34m\u001b[0m\u001b[0m\n\u001b[1;32m     23\u001b[0m \u001b[0mget_ipython\u001b[0m\u001b[0;34m(\u001b[0m\u001b[0;34m)\u001b[0m\u001b[0;34m.\u001b[0m\u001b[0msystem\u001b[0m\u001b[0;34m(\u001b[0m\u001b[0;34m'echo {vcode} | google-drive-ocamlfuse -headless -id={creds.client_id} -secret={creds.client_secret}'\u001b[0m\u001b[0;34m)\u001b[0m\u001b[0;34m\u001b[0m\u001b[0;34m\u001b[0m\u001b[0m\n",
            "\u001b[0;32m/usr/local/lib/python3.6/dist-packages/ipykernel/kernelbase.py\u001b[0m in \u001b[0;36mgetpass\u001b[0;34m(self, prompt, stream)\u001b[0m\n\u001b[1;32m    686\u001b[0m             \u001b[0mself\u001b[0m\u001b[0;34m.\u001b[0m\u001b[0m_parent_ident\u001b[0m\u001b[0;34m,\u001b[0m\u001b[0;34m\u001b[0m\u001b[0;34m\u001b[0m\u001b[0m\n\u001b[1;32m    687\u001b[0m             \u001b[0mself\u001b[0m\u001b[0;34m.\u001b[0m\u001b[0m_parent_header\u001b[0m\u001b[0;34m,\u001b[0m\u001b[0;34m\u001b[0m\u001b[0;34m\u001b[0m\u001b[0m\n\u001b[0;32m--> 688\u001b[0;31m             \u001b[0mpassword\u001b[0m\u001b[0;34m=\u001b[0m\u001b[0;32mTrue\u001b[0m\u001b[0;34m,\u001b[0m\u001b[0;34m\u001b[0m\u001b[0;34m\u001b[0m\u001b[0m\n\u001b[0m\u001b[1;32m    689\u001b[0m         )\n\u001b[1;32m    690\u001b[0m \u001b[0;34m\u001b[0m\u001b[0m\n",
            "\u001b[0;32m/usr/local/lib/python3.6/dist-packages/ipykernel/kernelbase.py\u001b[0m in \u001b[0;36m_input_request\u001b[0;34m(self, prompt, ident, parent, password)\u001b[0m\n\u001b[1;32m    733\u001b[0m             \u001b[0;32mexcept\u001b[0m \u001b[0mKeyboardInterrupt\u001b[0m\u001b[0;34m:\u001b[0m\u001b[0;34m\u001b[0m\u001b[0;34m\u001b[0m\u001b[0m\n\u001b[1;32m    734\u001b[0m                 \u001b[0;31m# re-raise KeyboardInterrupt, to truncate traceback\u001b[0m\u001b[0;34m\u001b[0m\u001b[0;34m\u001b[0m\u001b[0;34m\u001b[0m\u001b[0m\n\u001b[0;32m--> 735\u001b[0;31m                 \u001b[0;32mraise\u001b[0m \u001b[0mKeyboardInterrupt\u001b[0m\u001b[0;34m\u001b[0m\u001b[0;34m\u001b[0m\u001b[0m\n\u001b[0m\u001b[1;32m    736\u001b[0m             \u001b[0;32melse\u001b[0m\u001b[0;34m:\u001b[0m\u001b[0;34m\u001b[0m\u001b[0;34m\u001b[0m\u001b[0m\n\u001b[1;32m    737\u001b[0m                 \u001b[0;32mbreak\u001b[0m\u001b[0;34m\u001b[0m\u001b[0;34m\u001b[0m\u001b[0m\n",
            "\u001b[0;31mKeyboardInterrupt\u001b[0m: "
          ]
        }
      ]
    },
    {
      "metadata": {
        "id": "2dokrMrw0R6D",
        "colab_type": "code",
        "colab": {}
      },
      "cell_type": "code",
      "source": [
        "!mkdir -p drive\n",
        "\n",
        "!google-drive-ocamlfuse drive"
      ],
      "execution_count": 0,
      "outputs": []
    },
    {
      "metadata": {
        "id": "z2m2BN2W0R8Z",
        "colab_type": "code",
        "outputId": "1d388a8b-b44e-4014-a624-928d1971b2e5",
        "colab": {
          "base_uri": "https://localhost:8080/",
          "height": 36
        }
      },
      "cell_type": "code",
      "source": [
        "cd drive"
      ],
      "execution_count": 9,
      "outputs": [
        {
          "output_type": "stream",
          "text": [
            "/root/drive\n"
          ],
          "name": "stdout"
        }
      ]
    },
    {
      "metadata": {
        "id": "sDuTOc9vy7mQ",
        "colab_type": "code",
        "colab": {
          "base_uri": "https://localhost:8080/",
          "height": 36
        },
        "outputId": "4c4ff2c3-f021-4ad5-a057-9951f18cd581"
      },
      "cell_type": "code",
      "source": [
        "import pandas as pd\n",
        "import numpy as np\n",
        "import warnings \n",
        "import os # 운영체제에서 제공되는 기능을 파이썬에서 수행 \n",
        "import keras\n",
        "import matplotlib.pyplot as plt\n"
      ],
      "execution_count": 3,
      "outputs": [
        {
          "output_type": "stream",
          "text": [
            "Using TensorFlow backend.\n"
          ],
          "name": "stderr"
        }
      ]
    },
    {
      "metadata": {
        "id": "91qsGOnmy7ma",
        "colab_type": "code",
        "outputId": "81f383f6-42ee-4d55-e4aa-8c4cd7df81e3",
        "colab": {
          "base_uri": "https://localhost:8080/",
          "height": 75
        }
      },
      "cell_type": "code",
      "source": [
        "train = pd.read_csv('./Colab Notebooks/data/real_perfect_train.csv',encoding = 'utf-8',index_col= 0)"
      ],
      "execution_count": 41,
      "outputs": [
        {
          "output_type": "stream",
          "text": [
            "/usr/local/lib/python3.6/dist-packages/numpy/lib/arraysetops.py:472: FutureWarning: elementwise comparison failed; returning scalar instead, but in the future will perform elementwise comparison\n",
            "  mask |= (ar1 == a)\n"
          ],
          "name": "stderr"
        }
      ]
    },
    {
      "metadata": {
        "id": "DRvgGDTq0sMJ",
        "colab_type": "code",
        "outputId": "8d2f9ceb-1776-4000-e872-348446ba1893",
        "colab": {
          "base_uri": "https://localhost:8080/",
          "height": 251
        }
      },
      "cell_type": "code",
      "source": [
        "train.head()"
      ],
      "execution_count": 42,
      "outputs": [
        {
          "output_type": "execute_result",
          "data": {
            "text/html": [
              "<div>\n",
              "<style scoped>\n",
              "    .dataframe tbody tr th:only-of-type {\n",
              "        vertical-align: middle;\n",
              "    }\n",
              "\n",
              "    .dataframe tbody tr th {\n",
              "        vertical-align: top;\n",
              "    }\n",
              "\n",
              "    .dataframe thead th {\n",
              "        text-align: right;\n",
              "    }\n",
              "</style>\n",
              "<table border=\"1\" class=\"dataframe\">\n",
              "  <thead>\n",
              "    <tr style=\"text-align: right;\">\n",
              "      <th></th>\n",
              "      <th>key</th>\n",
              "      <th>city</th>\n",
              "      <th>apartment_id</th>\n",
              "      <th>address_by_law</th>\n",
              "      <th>transaction_date</th>\n",
              "      <th>transaction_year_month</th>\n",
              "      <th>year_of_completion</th>\n",
              "      <th>apartment_building_count_in_sites</th>\n",
              "      <th>bathroom_count</th>\n",
              "      <th>exclusive_use_area</th>\n",
              "      <th>...</th>\n",
              "      <th>mortgage_loan</th>\n",
              "      <th>transaction_real_price</th>\n",
              "      <th>central</th>\n",
              "      <th>district</th>\n",
              "      <th>individual</th>\n",
              "      <th>cogeneration</th>\n",
              "      <th>gas</th>\n",
              "      <th>corridor</th>\n",
              "      <th>mixed</th>\n",
              "      <th>stairway</th>\n",
              "    </tr>\n",
              "  </thead>\n",
              "  <tbody>\n",
              "    <tr>\n",
              "      <th>0</th>\n",
              "      <td>0</td>\n",
              "      <td>1</td>\n",
              "      <td>5584</td>\n",
              "      <td>1111017100</td>\n",
              "      <td>20</td>\n",
              "      <td>200601</td>\n",
              "      <td>1999</td>\n",
              "      <td>1</td>\n",
              "      <td>1.0</td>\n",
              "      <td>47.43</td>\n",
              "      <td>...</td>\n",
              "      <td>5.64</td>\n",
              "      <td>215000000</td>\n",
              "      <td>0</td>\n",
              "      <td>0</td>\n",
              "      <td>1</td>\n",
              "      <td>0</td>\n",
              "      <td>1</td>\n",
              "      <td>1</td>\n",
              "      <td>0</td>\n",
              "      <td>0</td>\n",
              "    </tr>\n",
              "    <tr>\n",
              "      <th>1</th>\n",
              "      <td>1</td>\n",
              "      <td>1</td>\n",
              "      <td>5584</td>\n",
              "      <td>1111017100</td>\n",
              "      <td>20</td>\n",
              "      <td>200601</td>\n",
              "      <td>1999</td>\n",
              "      <td>1</td>\n",
              "      <td>1.0</td>\n",
              "      <td>44.37</td>\n",
              "      <td>...</td>\n",
              "      <td>5.64</td>\n",
              "      <td>200000000</td>\n",
              "      <td>0</td>\n",
              "      <td>0</td>\n",
              "      <td>1</td>\n",
              "      <td>0</td>\n",
              "      <td>1</td>\n",
              "      <td>1</td>\n",
              "      <td>0</td>\n",
              "      <td>0</td>\n",
              "    </tr>\n",
              "    <tr>\n",
              "      <th>2</th>\n",
              "      <td>2</td>\n",
              "      <td>1</td>\n",
              "      <td>5059</td>\n",
              "      <td>1111017400</td>\n",
              "      <td>20</td>\n",
              "      <td>200601</td>\n",
              "      <td>1992</td>\n",
              "      <td>5</td>\n",
              "      <td>1.0</td>\n",
              "      <td>54.70</td>\n",
              "      <td>...</td>\n",
              "      <td>5.64</td>\n",
              "      <td>168000000</td>\n",
              "      <td>0</td>\n",
              "      <td>0</td>\n",
              "      <td>1</td>\n",
              "      <td>0</td>\n",
              "      <td>1</td>\n",
              "      <td>1</td>\n",
              "      <td>0</td>\n",
              "      <td>0</td>\n",
              "    </tr>\n",
              "    <tr>\n",
              "      <th>3</th>\n",
              "      <td>3</td>\n",
              "      <td>1</td>\n",
              "      <td>2816</td>\n",
              "      <td>1111017400</td>\n",
              "      <td>20</td>\n",
              "      <td>200601</td>\n",
              "      <td>1993</td>\n",
              "      <td>7</td>\n",
              "      <td>1.0</td>\n",
              "      <td>64.66</td>\n",
              "      <td>...</td>\n",
              "      <td>5.64</td>\n",
              "      <td>165000000</td>\n",
              "      <td>0</td>\n",
              "      <td>0</td>\n",
              "      <td>1</td>\n",
              "      <td>0</td>\n",
              "      <td>1</td>\n",
              "      <td>1</td>\n",
              "      <td>0</td>\n",
              "      <td>0</td>\n",
              "    </tr>\n",
              "    <tr>\n",
              "      <th>4</th>\n",
              "      <td>4</td>\n",
              "      <td>1</td>\n",
              "      <td>2816</td>\n",
              "      <td>1111017400</td>\n",
              "      <td>20</td>\n",
              "      <td>200601</td>\n",
              "      <td>1993</td>\n",
              "      <td>7</td>\n",
              "      <td>2.0</td>\n",
              "      <td>106.62</td>\n",
              "      <td>...</td>\n",
              "      <td>5.64</td>\n",
              "      <td>280000000</td>\n",
              "      <td>0</td>\n",
              "      <td>0</td>\n",
              "      <td>1</td>\n",
              "      <td>0</td>\n",
              "      <td>1</td>\n",
              "      <td>0</td>\n",
              "      <td>0</td>\n",
              "      <td>1</td>\n",
              "    </tr>\n",
              "  </tbody>\n",
              "</table>\n",
              "<p>5 rows × 33 columns</p>\n",
              "</div>"
            ],
            "text/plain": [
              "   key  city  apartment_id  address_by_law  transaction_date  \\\n",
              "0    0     1          5584      1111017100                20   \n",
              "1    1     1          5584      1111017100                20   \n",
              "2    2     1          5059      1111017400                20   \n",
              "3    3     1          2816      1111017400                20   \n",
              "4    4     1          2816      1111017400                20   \n",
              "\n",
              "   transaction_year_month  year_of_completion  \\\n",
              "0                  200601                1999   \n",
              "1                  200601                1999   \n",
              "2                  200601                1992   \n",
              "3                  200601                1993   \n",
              "4                  200601                1993   \n",
              "\n",
              "   apartment_building_count_in_sites  bathroom_count  exclusive_use_area  \\\n",
              "0                                  1             1.0               47.43   \n",
              "1                                  1             1.0               44.37   \n",
              "2                                  5             1.0               54.70   \n",
              "3                                  7             1.0               64.66   \n",
              "4                                  7             2.0              106.62   \n",
              "\n",
              "     ...     mortgage_loan  transaction_real_price  central  district  \\\n",
              "0    ...              5.64               215000000        0         0   \n",
              "1    ...              5.64               200000000        0         0   \n",
              "2    ...              5.64               168000000        0         0   \n",
              "3    ...              5.64               165000000        0         0   \n",
              "4    ...              5.64               280000000        0         0   \n",
              "\n",
              "   individual  cogeneration  gas  corridor  mixed  stairway  \n",
              "0           1             0    1         1      0         0  \n",
              "1           1             0    1         1      0         0  \n",
              "2           1             0    1         1      0         0  \n",
              "3           1             0    1         1      0         0  \n",
              "4           1             0    1         0      0         1  \n",
              "\n",
              "[5 rows x 33 columns]"
            ]
          },
          "metadata": {
            "tags": []
          },
          "execution_count": 42
        }
      ]
    },
    {
      "metadata": {
        "id": "4jUHRfq60zVu",
        "colab_type": "code",
        "colab": {}
      },
      "cell_type": "code",
      "source": [
        "train = train.drop(columns = ['address_by_law','transaction_date','transaction_year_month','latitude','longitude','room_id','supply_area','total_household_count_of_area_type','household_loan','mean_loan','lowest_building_in_sites'])"
      ],
      "execution_count": 0,
      "outputs": []
    },
    {
      "metadata": {
        "id": "g5GEQdFF1yTa",
        "colab_type": "code",
        "outputId": "c278627a-fa1f-42e3-8807-28a5453ae2ad",
        "colab": {
          "base_uri": "https://localhost:8080/",
          "height": 251
        }
      },
      "cell_type": "code",
      "source": [
        "train.head()"
      ],
      "execution_count": 0,
      "outputs": [
        {
          "output_type": "execute_result",
          "data": {
            "text/html": [
              "<div>\n",
              "<style scoped>\n",
              "    .dataframe tbody tr th:only-of-type {\n",
              "        vertical-align: middle;\n",
              "    }\n",
              "\n",
              "    .dataframe tbody tr th {\n",
              "        vertical-align: top;\n",
              "    }\n",
              "\n",
              "    .dataframe thead th {\n",
              "        text-align: right;\n",
              "    }\n",
              "</style>\n",
              "<table border=\"1\" class=\"dataframe\">\n",
              "  <thead>\n",
              "    <tr style=\"text-align: right;\">\n",
              "      <th></th>\n",
              "      <th>key</th>\n",
              "      <th>city</th>\n",
              "      <th>apartment_id</th>\n",
              "      <th>year_of_completion</th>\n",
              "      <th>apartment_building_count_in_sites</th>\n",
              "      <th>bathroom_count</th>\n",
              "      <th>exclusive_use_area</th>\n",
              "      <th>floor</th>\n",
              "      <th>room_count</th>\n",
              "      <th>tallest_building_in_sites</th>\n",
              "      <th>...</th>\n",
              "      <th>mortgage_loan</th>\n",
              "      <th>transaction_real_price</th>\n",
              "      <th>central</th>\n",
              "      <th>district</th>\n",
              "      <th>individual</th>\n",
              "      <th>cogeneration</th>\n",
              "      <th>gas</th>\n",
              "      <th>corridor</th>\n",
              "      <th>mixed</th>\n",
              "      <th>stairway</th>\n",
              "    </tr>\n",
              "  </thead>\n",
              "  <tbody>\n",
              "    <tr>\n",
              "      <th>0</th>\n",
              "      <td>0</td>\n",
              "      <td>1</td>\n",
              "      <td>5584</td>\n",
              "      <td>1999</td>\n",
              "      <td>1</td>\n",
              "      <td>1.0</td>\n",
              "      <td>47.43</td>\n",
              "      <td>6</td>\n",
              "      <td>1.0</td>\n",
              "      <td>8.0</td>\n",
              "      <td>...</td>\n",
              "      <td>5.64</td>\n",
              "      <td>215000000</td>\n",
              "      <td>0</td>\n",
              "      <td>0</td>\n",
              "      <td>1</td>\n",
              "      <td>0</td>\n",
              "      <td>1</td>\n",
              "      <td>1</td>\n",
              "      <td>0</td>\n",
              "      <td>0</td>\n",
              "    </tr>\n",
              "    <tr>\n",
              "      <th>1</th>\n",
              "      <td>1</td>\n",
              "      <td>1</td>\n",
              "      <td>5584</td>\n",
              "      <td>1999</td>\n",
              "      <td>1</td>\n",
              "      <td>1.0</td>\n",
              "      <td>44.37</td>\n",
              "      <td>8</td>\n",
              "      <td>2.0</td>\n",
              "      <td>8.0</td>\n",
              "      <td>...</td>\n",
              "      <td>5.64</td>\n",
              "      <td>200000000</td>\n",
              "      <td>0</td>\n",
              "      <td>0</td>\n",
              "      <td>1</td>\n",
              "      <td>0</td>\n",
              "      <td>1</td>\n",
              "      <td>1</td>\n",
              "      <td>0</td>\n",
              "      <td>0</td>\n",
              "    </tr>\n",
              "    <tr>\n",
              "      <th>2</th>\n",
              "      <td>2</td>\n",
              "      <td>1</td>\n",
              "      <td>5059</td>\n",
              "      <td>1992</td>\n",
              "      <td>5</td>\n",
              "      <td>1.0</td>\n",
              "      <td>54.70</td>\n",
              "      <td>8</td>\n",
              "      <td>2.0</td>\n",
              "      <td>14.0</td>\n",
              "      <td>...</td>\n",
              "      <td>5.64</td>\n",
              "      <td>168000000</td>\n",
              "      <td>0</td>\n",
              "      <td>0</td>\n",
              "      <td>1</td>\n",
              "      <td>0</td>\n",
              "      <td>1</td>\n",
              "      <td>1</td>\n",
              "      <td>0</td>\n",
              "      <td>0</td>\n",
              "    </tr>\n",
              "    <tr>\n",
              "      <th>3</th>\n",
              "      <td>3</td>\n",
              "      <td>1</td>\n",
              "      <td>2816</td>\n",
              "      <td>1993</td>\n",
              "      <td>7</td>\n",
              "      <td>1.0</td>\n",
              "      <td>64.66</td>\n",
              "      <td>11</td>\n",
              "      <td>2.0</td>\n",
              "      <td>15.0</td>\n",
              "      <td>...</td>\n",
              "      <td>5.64</td>\n",
              "      <td>165000000</td>\n",
              "      <td>0</td>\n",
              "      <td>0</td>\n",
              "      <td>1</td>\n",
              "      <td>0</td>\n",
              "      <td>1</td>\n",
              "      <td>1</td>\n",
              "      <td>0</td>\n",
              "      <td>0</td>\n",
              "    </tr>\n",
              "    <tr>\n",
              "      <th>4</th>\n",
              "      <td>4</td>\n",
              "      <td>1</td>\n",
              "      <td>2816</td>\n",
              "      <td>1993</td>\n",
              "      <td>7</td>\n",
              "      <td>2.0</td>\n",
              "      <td>106.62</td>\n",
              "      <td>7</td>\n",
              "      <td>4.0</td>\n",
              "      <td>15.0</td>\n",
              "      <td>...</td>\n",
              "      <td>5.64</td>\n",
              "      <td>280000000</td>\n",
              "      <td>0</td>\n",
              "      <td>0</td>\n",
              "      <td>1</td>\n",
              "      <td>0</td>\n",
              "      <td>1</td>\n",
              "      <td>0</td>\n",
              "      <td>0</td>\n",
              "      <td>1</td>\n",
              "    </tr>\n",
              "  </tbody>\n",
              "</table>\n",
              "<p>5 rows × 22 columns</p>\n",
              "</div>"
            ],
            "text/plain": [
              "   key  city  apartment_id  year_of_completion  \\\n",
              "0    0     1          5584                1999   \n",
              "1    1     1          5584                1999   \n",
              "2    2     1          5059                1992   \n",
              "3    3     1          2816                1993   \n",
              "4    4     1          2816                1993   \n",
              "\n",
              "   apartment_building_count_in_sites  bathroom_count  exclusive_use_area  \\\n",
              "0                                  1             1.0               47.43   \n",
              "1                                  1             1.0               44.37   \n",
              "2                                  5             1.0               54.70   \n",
              "3                                  7             1.0               64.66   \n",
              "4                                  7             2.0              106.62   \n",
              "\n",
              "   floor  room_count  tallest_building_in_sites    ...     mortgage_loan  \\\n",
              "0      6         1.0                        8.0    ...              5.64   \n",
              "1      8         2.0                        8.0    ...              5.64   \n",
              "2      8         2.0                       14.0    ...              5.64   \n",
              "3     11         2.0                       15.0    ...              5.64   \n",
              "4      7         4.0                       15.0    ...              5.64   \n",
              "\n",
              "   transaction_real_price  central  district  individual  cogeneration  gas  \\\n",
              "0               215000000        0         0           1             0    1   \n",
              "1               200000000        0         0           1             0    1   \n",
              "2               168000000        0         0           1             0    1   \n",
              "3               165000000        0         0           1             0    1   \n",
              "4               280000000        0         0           1             0    1   \n",
              "\n",
              "   corridor  mixed  stairway  \n",
              "0         1      0         0  \n",
              "1         1      0         0  \n",
              "2         1      0         0  \n",
              "3         1      0         0  \n",
              "4         0      0         1  \n",
              "\n",
              "[5 rows x 22 columns]"
            ]
          },
          "metadata": {
            "tags": []
          },
          "execution_count": 85
        }
      ]
    },
    {
      "metadata": {
        "id": "5K5XmNjgrr9A",
        "colab_type": "code",
        "colab": {}
      },
      "cell_type": "code",
      "source": [
        "train2 = train[['year_of_completion',\n",
        "       'apartment_building_count_in_sites','bathroom_count',\n",
        "       'exclusive_use_area', 'floor', 'room_count',\n",
        "       'tallest_building_in_sites', 'total_household_count_in_sites',\n",
        "       'total_parking_capacity_in_site','mortgage_loan',\n",
        "       ]]\n",
        "# 범주형 변수, key, city, apt_id를 제외한 연속형 변수만 "
      ],
      "execution_count": 0,
      "outputs": []
    },
    {
      "metadata": {
        "id": "JNATv_ZWrr6g",
        "colab_type": "code",
        "outputId": "86bab8ff-8b1f-43d6-cce9-260a17d15d8f",
        "colab": {
          "base_uri": "https://localhost:8080/",
          "height": 241
        }
      },
      "cell_type": "code",
      "source": [
        "train2['parking_per_household'] = train2['total_parking_capacity_in_site'] / train2['total_household_count_in_sites'] \n",
        "# train2['parking_per_household']=\"%0.2f\" % train2.parking_per_household\n",
        "# train2.info()\n",
        "train2['parking_per_household']=round(train2.parking_per_household,2)"
      ],
      "execution_count": 45,
      "outputs": [
        {
          "output_type": "stream",
          "text": [
            "/usr/local/lib/python3.6/dist-packages/ipykernel_launcher.py:1: SettingWithCopyWarning: \n",
            "A value is trying to be set on a copy of a slice from a DataFrame.\n",
            "Try using .loc[row_indexer,col_indexer] = value instead\n",
            "\n",
            "See the caveats in the documentation: http://pandas.pydata.org/pandas-docs/stable/indexing.html#indexing-view-versus-copy\n",
            "  \"\"\"Entry point for launching an IPython kernel.\n",
            "/usr/local/lib/python3.6/dist-packages/ipykernel_launcher.py:4: SettingWithCopyWarning: \n",
            "A value is trying to be set on a copy of a slice from a DataFrame.\n",
            "Try using .loc[row_indexer,col_indexer] = value instead\n",
            "\n",
            "See the caveats in the documentation: http://pandas.pydata.org/pandas-docs/stable/indexing.html#indexing-view-versus-copy\n",
            "  after removing the cwd from sys.path.\n"
          ],
          "name": "stderr"
        }
      ]
    },
    {
      "metadata": {
        "id": "LhtLKpb8nc32",
        "colab_type": "code",
        "outputId": "925eec06-8d83-40c1-c3b3-fe1999f678a0",
        "colab": {
          "base_uri": "https://localhost:8080/",
          "height": 316
        }
      },
      "cell_type": "code",
      "source": [
        "train2.info()\n",
        "train2 = train2.drop(columns = ['total_parking_capacity_in_site'])"
      ],
      "execution_count": 46,
      "outputs": [
        {
          "output_type": "stream",
          "text": [
            "<class 'pandas.core.frame.DataFrame'>\n",
            "Int64Index: 1601458 entries, 0 to 1605374\n",
            "Data columns (total 11 columns):\n",
            "year_of_completion                   1601458 non-null int64\n",
            "apartment_building_count_in_sites    1601458 non-null int64\n",
            "bathroom_count                       1601458 non-null float64\n",
            "exclusive_use_area                   1601458 non-null float64\n",
            "floor                                1601458 non-null int64\n",
            "room_count                           1601458 non-null float64\n",
            "tallest_building_in_sites            1601458 non-null float64\n",
            "total_household_count_in_sites       1601458 non-null int64\n",
            "total_parking_capacity_in_site       1601458 non-null float64\n",
            "mortgage_loan                        1601458 non-null float64\n",
            "parking_per_household                1601458 non-null float64\n",
            "dtypes: float64(7), int64(4)\n",
            "memory usage: 146.6 MB\n"
          ],
          "name": "stdout"
        }
      ]
    },
    {
      "metadata": {
        "id": "R5l-YczSsrtx",
        "colab_type": "code",
        "outputId": "1142938d-6d26-4e8c-f993-ab0d05d07f5c",
        "colab": {
          "base_uri": "https://localhost:8080/",
          "height": 222
        }
      },
      "cell_type": "code",
      "source": [
        "train2.head()"
      ],
      "execution_count": 29,
      "outputs": [
        {
          "output_type": "execute_result",
          "data": {
            "text/html": [
              "<div>\n",
              "<style scoped>\n",
              "    .dataframe tbody tr th:only-of-type {\n",
              "        vertical-align: middle;\n",
              "    }\n",
              "\n",
              "    .dataframe tbody tr th {\n",
              "        vertical-align: top;\n",
              "    }\n",
              "\n",
              "    .dataframe thead th {\n",
              "        text-align: right;\n",
              "    }\n",
              "</style>\n",
              "<table border=\"1\" class=\"dataframe\">\n",
              "  <thead>\n",
              "    <tr style=\"text-align: right;\">\n",
              "      <th></th>\n",
              "      <th>year_of_completion</th>\n",
              "      <th>apartment_building_count_in_sites</th>\n",
              "      <th>bathroom_count</th>\n",
              "      <th>exclusive_use_area</th>\n",
              "      <th>floor</th>\n",
              "      <th>room_count</th>\n",
              "      <th>tallest_building_in_sites</th>\n",
              "      <th>total_household_count_in_sites</th>\n",
              "      <th>mortgage_loan</th>\n",
              "      <th>parking_per_household</th>\n",
              "    </tr>\n",
              "  </thead>\n",
              "  <tbody>\n",
              "    <tr>\n",
              "      <th>0</th>\n",
              "      <td>1999</td>\n",
              "      <td>1</td>\n",
              "      <td>1.0</td>\n",
              "      <td>47.43</td>\n",
              "      <td>6</td>\n",
              "      <td>1.0</td>\n",
              "      <td>8.0</td>\n",
              "      <td>136</td>\n",
              "      <td>5.64</td>\n",
              "      <td>1.20</td>\n",
              "    </tr>\n",
              "    <tr>\n",
              "      <th>1</th>\n",
              "      <td>1999</td>\n",
              "      <td>1</td>\n",
              "      <td>1.0</td>\n",
              "      <td>44.37</td>\n",
              "      <td>8</td>\n",
              "      <td>2.0</td>\n",
              "      <td>8.0</td>\n",
              "      <td>136</td>\n",
              "      <td>5.64</td>\n",
              "      <td>1.20</td>\n",
              "    </tr>\n",
              "    <tr>\n",
              "      <th>2</th>\n",
              "      <td>1992</td>\n",
              "      <td>5</td>\n",
              "      <td>1.0</td>\n",
              "      <td>54.70</td>\n",
              "      <td>8</td>\n",
              "      <td>2.0</td>\n",
              "      <td>14.0</td>\n",
              "      <td>585</td>\n",
              "      <td>5.64</td>\n",
              "      <td>1.54</td>\n",
              "    </tr>\n",
              "    <tr>\n",
              "      <th>3</th>\n",
              "      <td>1993</td>\n",
              "      <td>7</td>\n",
              "      <td>1.0</td>\n",
              "      <td>64.66</td>\n",
              "      <td>11</td>\n",
              "      <td>2.0</td>\n",
              "      <td>15.0</td>\n",
              "      <td>919</td>\n",
              "      <td>5.64</td>\n",
              "      <td>0.98</td>\n",
              "    </tr>\n",
              "    <tr>\n",
              "      <th>4</th>\n",
              "      <td>1993</td>\n",
              "      <td>7</td>\n",
              "      <td>2.0</td>\n",
              "      <td>106.62</td>\n",
              "      <td>7</td>\n",
              "      <td>4.0</td>\n",
              "      <td>15.0</td>\n",
              "      <td>919</td>\n",
              "      <td>5.64</td>\n",
              "      <td>0.98</td>\n",
              "    </tr>\n",
              "  </tbody>\n",
              "</table>\n",
              "</div>"
            ],
            "text/plain": [
              "   year_of_completion  apartment_building_count_in_sites  bathroom_count  \\\n",
              "0                1999                                  1             1.0   \n",
              "1                1999                                  1             1.0   \n",
              "2                1992                                  5             1.0   \n",
              "3                1993                                  7             1.0   \n",
              "4                1993                                  7             2.0   \n",
              "\n",
              "   exclusive_use_area  floor  room_count  tallest_building_in_sites  \\\n",
              "0               47.43      6         1.0                        8.0   \n",
              "1               44.37      8         2.0                        8.0   \n",
              "2               54.70      8         2.0                       14.0   \n",
              "3               64.66     11         2.0                       15.0   \n",
              "4              106.62      7         4.0                       15.0   \n",
              "\n",
              "   total_household_count_in_sites  mortgage_loan  parking_per_household  \n",
              "0                             136           5.64                   1.20  \n",
              "1                             136           5.64                   1.20  \n",
              "2                             585           5.64                   1.54  \n",
              "3                             919           5.64                   0.98  \n",
              "4                             919           5.64                   0.98  "
            ]
          },
          "metadata": {
            "tags": []
          },
          "execution_count": 29
        }
      ]
    },
    {
      "metadata": {
        "id": "OVND008EvMFx",
        "colab_type": "code",
        "colab": {}
      },
      "cell_type": "code",
      "source": [
        "# standardization\n",
        "\n",
        "mean = train2.mean(axis=0)\n",
        "train2 -= mean\n",
        "std = train2.std(axis=0)\n",
        "train2 /= std \n",
        "\n",
        "# test_data -= mean\n",
        "# test_data /= std"
      ],
      "execution_count": 0,
      "outputs": []
    },
    {
      "metadata": {
        "id": "Hihzuqncvhgy",
        "colab_type": "code",
        "outputId": "93cb9fd6-f5d5-42f1-83a4-115bcf9b7062",
        "colab": {
          "base_uri": "https://localhost:8080/",
          "height": 297
        }
      },
      "cell_type": "code",
      "source": [
        "train2.info()\n",
        "train4 = train[['apartment_id','transaction_real_price','city','central','district','individual','cogeneration','gas','corridor','mixed','stairway']]"
      ],
      "execution_count": 48,
      "outputs": [
        {
          "output_type": "stream",
          "text": [
            "<class 'pandas.core.frame.DataFrame'>\n",
            "Int64Index: 1601458 entries, 0 to 1605374\n",
            "Data columns (total 10 columns):\n",
            "year_of_completion                   1601458 non-null float64\n",
            "apartment_building_count_in_sites    1601458 non-null float64\n",
            "bathroom_count                       1601458 non-null float64\n",
            "exclusive_use_area                   1601458 non-null float64\n",
            "floor                                1601458 non-null float64\n",
            "room_count                           1601458 non-null float64\n",
            "tallest_building_in_sites            1601458 non-null float64\n",
            "total_household_count_in_sites       1601458 non-null float64\n",
            "mortgage_loan                        1601458 non-null float64\n",
            "parking_per_household                1601458 non-null float64\n",
            "dtypes: float64(10)\n",
            "memory usage: 134.4 MB\n"
          ],
          "name": "stdout"
        }
      ]
    },
    {
      "metadata": {
        "id": "lOet3rBVvjCA",
        "colab_type": "code",
        "colab": {}
      },
      "cell_type": "code",
      "source": [
        "train3 = pd.concat([train2,train4], axis = 1)"
      ],
      "execution_count": 0,
      "outputs": []
    },
    {
      "metadata": {
        "id": "W6XIuFS-yy0R",
        "colab_type": "code",
        "outputId": "c4ec39db-1a50-4193-a9a7-a804c7cd923d",
        "colab": {
          "base_uri": "https://localhost:8080/",
          "height": 251
        }
      },
      "cell_type": "code",
      "source": [
        "train3.head()"
      ],
      "execution_count": 50,
      "outputs": [
        {
          "output_type": "execute_result",
          "data": {
            "text/html": [
              "<div>\n",
              "<style scoped>\n",
              "    .dataframe tbody tr th:only-of-type {\n",
              "        vertical-align: middle;\n",
              "    }\n",
              "\n",
              "    .dataframe tbody tr th {\n",
              "        vertical-align: top;\n",
              "    }\n",
              "\n",
              "    .dataframe thead th {\n",
              "        text-align: right;\n",
              "    }\n",
              "</style>\n",
              "<table border=\"1\" class=\"dataframe\">\n",
              "  <thead>\n",
              "    <tr style=\"text-align: right;\">\n",
              "      <th></th>\n",
              "      <th>year_of_completion</th>\n",
              "      <th>apartment_building_count_in_sites</th>\n",
              "      <th>bathroom_count</th>\n",
              "      <th>exclusive_use_area</th>\n",
              "      <th>floor</th>\n",
              "      <th>room_count</th>\n",
              "      <th>tallest_building_in_sites</th>\n",
              "      <th>total_household_count_in_sites</th>\n",
              "      <th>mortgage_loan</th>\n",
              "      <th>parking_per_household</th>\n",
              "      <th>...</th>\n",
              "      <th>transaction_real_price</th>\n",
              "      <th>city</th>\n",
              "      <th>central</th>\n",
              "      <th>district</th>\n",
              "      <th>individual</th>\n",
              "      <th>cogeneration</th>\n",
              "      <th>gas</th>\n",
              "      <th>corridor</th>\n",
              "      <th>mixed</th>\n",
              "      <th>stairway</th>\n",
              "    </tr>\n",
              "  </thead>\n",
              "  <tbody>\n",
              "    <tr>\n",
              "      <th>0</th>\n",
              "      <td>0.042060</td>\n",
              "      <td>-0.839598</td>\n",
              "      <td>-1.157310</td>\n",
              "      <td>-1.144215</td>\n",
              "      <td>-0.574122</td>\n",
              "      <td>-2.932447</td>\n",
              "      <td>-1.459764</td>\n",
              "      <td>-0.926899</td>\n",
              "      <td>1.009664</td>\n",
              "      <td>0.220346</td>\n",
              "      <td>...</td>\n",
              "      <td>215000000</td>\n",
              "      <td>1</td>\n",
              "      <td>0</td>\n",
              "      <td>0</td>\n",
              "      <td>1</td>\n",
              "      <td>0</td>\n",
              "      <td>1</td>\n",
              "      <td>1</td>\n",
              "      <td>0</td>\n",
              "      <td>0</td>\n",
              "    </tr>\n",
              "    <tr>\n",
              "      <th>1</th>\n",
              "      <td>0.042060</td>\n",
              "      <td>-0.839598</td>\n",
              "      <td>-1.157310</td>\n",
              "      <td>-1.253498</td>\n",
              "      <td>-0.296118</td>\n",
              "      <td>-1.429483</td>\n",
              "      <td>-1.459764</td>\n",
              "      <td>-0.926899</td>\n",
              "      <td>1.009664</td>\n",
              "      <td>0.220346</td>\n",
              "      <td>...</td>\n",
              "      <td>200000000</td>\n",
              "      <td>1</td>\n",
              "      <td>0</td>\n",
              "      <td>0</td>\n",
              "      <td>1</td>\n",
              "      <td>0</td>\n",
              "      <td>1</td>\n",
              "      <td>1</td>\n",
              "      <td>0</td>\n",
              "      <td>0</td>\n",
              "    </tr>\n",
              "    <tr>\n",
              "      <th>2</th>\n",
              "      <td>-0.786868</td>\n",
              "      <td>-0.553712</td>\n",
              "      <td>-1.157310</td>\n",
              "      <td>-0.884577</td>\n",
              "      <td>-0.296118</td>\n",
              "      <td>-1.429483</td>\n",
              "      <td>-0.774081</td>\n",
              "      <td>-0.528882</td>\n",
              "      <td>1.009664</td>\n",
              "      <td>0.978990</td>\n",
              "      <td>...</td>\n",
              "      <td>168000000</td>\n",
              "      <td>1</td>\n",
              "      <td>0</td>\n",
              "      <td>0</td>\n",
              "      <td>1</td>\n",
              "      <td>0</td>\n",
              "      <td>1</td>\n",
              "      <td>1</td>\n",
              "      <td>0</td>\n",
              "      <td>0</td>\n",
              "    </tr>\n",
              "    <tr>\n",
              "      <th>3</th>\n",
              "      <td>-0.668450</td>\n",
              "      <td>-0.410768</td>\n",
              "      <td>-1.157310</td>\n",
              "      <td>-0.528869</td>\n",
              "      <td>0.120889</td>\n",
              "      <td>-1.429483</td>\n",
              "      <td>-0.659800</td>\n",
              "      <td>-0.232807</td>\n",
              "      <td>1.009664</td>\n",
              "      <td>-0.270541</td>\n",
              "      <td>...</td>\n",
              "      <td>165000000</td>\n",
              "      <td>1</td>\n",
              "      <td>0</td>\n",
              "      <td>0</td>\n",
              "      <td>1</td>\n",
              "      <td>0</td>\n",
              "      <td>1</td>\n",
              "      <td>1</td>\n",
              "      <td>0</td>\n",
              "      <td>0</td>\n",
              "    </tr>\n",
              "    <tr>\n",
              "      <th>4</th>\n",
              "      <td>-0.668450</td>\n",
              "      <td>-0.410768</td>\n",
              "      <td>0.814297</td>\n",
              "      <td>0.969673</td>\n",
              "      <td>-0.435120</td>\n",
              "      <td>1.576445</td>\n",
              "      <td>-0.659800</td>\n",
              "      <td>-0.232807</td>\n",
              "      <td>1.009664</td>\n",
              "      <td>-0.270541</td>\n",
              "      <td>...</td>\n",
              "      <td>280000000</td>\n",
              "      <td>1</td>\n",
              "      <td>0</td>\n",
              "      <td>0</td>\n",
              "      <td>1</td>\n",
              "      <td>0</td>\n",
              "      <td>1</td>\n",
              "      <td>0</td>\n",
              "      <td>0</td>\n",
              "      <td>1</td>\n",
              "    </tr>\n",
              "  </tbody>\n",
              "</table>\n",
              "<p>5 rows × 21 columns</p>\n",
              "</div>"
            ],
            "text/plain": [
              "   year_of_completion  apartment_building_count_in_sites  bathroom_count  \\\n",
              "0            0.042060                          -0.839598       -1.157310   \n",
              "1            0.042060                          -0.839598       -1.157310   \n",
              "2           -0.786868                          -0.553712       -1.157310   \n",
              "3           -0.668450                          -0.410768       -1.157310   \n",
              "4           -0.668450                          -0.410768        0.814297   \n",
              "\n",
              "   exclusive_use_area     floor  room_count  tallest_building_in_sites  \\\n",
              "0           -1.144215 -0.574122   -2.932447                  -1.459764   \n",
              "1           -1.253498 -0.296118   -1.429483                  -1.459764   \n",
              "2           -0.884577 -0.296118   -1.429483                  -0.774081   \n",
              "3           -0.528869  0.120889   -1.429483                  -0.659800   \n",
              "4            0.969673 -0.435120    1.576445                  -0.659800   \n",
              "\n",
              "   total_household_count_in_sites  mortgage_loan  parking_per_household  \\\n",
              "0                       -0.926899       1.009664               0.220346   \n",
              "1                       -0.926899       1.009664               0.220346   \n",
              "2                       -0.528882       1.009664               0.978990   \n",
              "3                       -0.232807       1.009664              -0.270541   \n",
              "4                       -0.232807       1.009664              -0.270541   \n",
              "\n",
              "     ...     transaction_real_price  city  central  district  individual  \\\n",
              "0    ...                  215000000     1        0         0           1   \n",
              "1    ...                  200000000     1        0         0           1   \n",
              "2    ...                  168000000     1        0         0           1   \n",
              "3    ...                  165000000     1        0         0           1   \n",
              "4    ...                  280000000     1        0         0           1   \n",
              "\n",
              "   cogeneration  gas  corridor  mixed  stairway  \n",
              "0             0    1         1      0         0  \n",
              "1             0    1         1      0         0  \n",
              "2             0    1         1      0         0  \n",
              "3             0    1         1      0         0  \n",
              "4             0    1         0      0         1  \n",
              "\n",
              "[5 rows x 21 columns]"
            ]
          },
          "metadata": {
            "tags": []
          },
          "execution_count": 50
        }
      ]
    },
    {
      "metadata": {
        "id": "nETeynesyz2c",
        "colab_type": "code",
        "outputId": "0c99d414-10b0-4352-cfba-f6c0864b3f89",
        "colab": {
          "base_uri": "https://localhost:8080/",
          "height": 148
        }
      },
      "cell_type": "code",
      "source": [
        "train3.columns"
      ],
      "execution_count": 51,
      "outputs": [
        {
          "output_type": "execute_result",
          "data": {
            "text/plain": [
              "Index(['year_of_completion', 'apartment_building_count_in_sites',\n",
              "       'bathroom_count', 'exclusive_use_area', 'floor', 'room_count',\n",
              "       'tallest_building_in_sites', 'total_household_count_in_sites',\n",
              "       'mortgage_loan', 'parking_per_household', 'apartment_id',\n",
              "       'transaction_real_price', 'city', 'central', 'district', 'individual',\n",
              "       'cogeneration', 'gas', 'corridor', 'mixed', 'stairway'],\n",
              "      dtype='object')"
            ]
          },
          "metadata": {
            "tags": []
          },
          "execution_count": 51
        }
      ]
    },
    {
      "metadata": {
        "id": "QJF2wgpbzVni",
        "colab_type": "code",
        "colab": {}
      },
      "cell_type": "code",
      "source": [
        "city_onehot = pd.get_dummies(train3.city) \n"
      ],
      "execution_count": 0,
      "outputs": []
    },
    {
      "metadata": {
        "id": "LdRmLViSzo8a",
        "colab_type": "code",
        "colab": {}
      },
      "cell_type": "code",
      "source": [
        "train3 = pd.concat(\n",
        "\t[train3, city_onehot],\n",
        "\taxis=1) "
      ],
      "execution_count": 0,
      "outputs": []
    },
    {
      "metadata": {
        "id": "jENLFVv08rh9",
        "colab_type": "code",
        "outputId": "ed44723e-12f8-4187-ccc8-0eeb86d27a01",
        "colab": {
          "base_uri": "https://localhost:8080/",
          "height": 540
        }
      },
      "cell_type": "code",
      "source": [
        "train3.info()\n",
        "# train3 = train3.rename(columns = {0:'busan',1:'seoul'})"
      ],
      "execution_count": 55,
      "outputs": [
        {
          "output_type": "stream",
          "text": [
            "<class 'pandas.core.frame.DataFrame'>\n",
            "Int64Index: 1601458 entries, 0 to 1605374\n",
            "Data columns (total 23 columns):\n",
            "year_of_completion                   1601458 non-null float64\n",
            "apartment_building_count_in_sites    1601458 non-null float64\n",
            "bathroom_count                       1601458 non-null float64\n",
            "exclusive_use_area                   1601458 non-null float64\n",
            "floor                                1601458 non-null float64\n",
            "room_count                           1601458 non-null float64\n",
            "tallest_building_in_sites            1601458 non-null float64\n",
            "total_household_count_in_sites       1601458 non-null float64\n",
            "mortgage_loan                        1601458 non-null float64\n",
            "parking_per_household                1601458 non-null float64\n",
            "apartment_id                         1601458 non-null int64\n",
            "transaction_real_price               1601458 non-null int64\n",
            "city                                 1601458 non-null int64\n",
            "central                              1601458 non-null int64\n",
            "district                             1601458 non-null int64\n",
            "individual                           1601458 non-null int64\n",
            "cogeneration                         1601458 non-null int64\n",
            "gas                                  1601458 non-null int64\n",
            "corridor                             1601458 non-null int64\n",
            "mixed                                1601458 non-null int64\n",
            "stairway                             1601458 non-null int64\n",
            "busan                                1601458 non-null uint8\n",
            "seoul                                1601458 non-null uint8\n",
            "dtypes: float64(10), int64(11), uint8(2)\n",
            "memory usage: 271.9 MB\n"
          ],
          "name": "stdout"
        }
      ]
    },
    {
      "metadata": {
        "id": "AdXba0lwy4Sg",
        "colab_type": "code",
        "colab": {}
      },
      "cell_type": "code",
      "source": [
        "train3 = train3[['apartment_id','year_of_completion','apartment_building_count_in_sites',\n",
        "       'bathroom_count', 'exclusive_use_area', 'floor', 'room_count',\n",
        "       'tallest_building_in_sites', 'total_household_count_in_sites',\n",
        "       'mortgage_loan', 'parking_per_household',\n",
        "       'central', 'district',\n",
        "       'individual', 'cogeneration', 'gas', 'corridor', 'mixed', 'stairway','busan','seoul','transaction_real_price']]"
      ],
      "execution_count": 0,
      "outputs": []
    },
    {
      "metadata": {
        "id": "IeZWmrtiIlJ_",
        "colab_type": "code",
        "colab": {
          "base_uri": "https://localhost:8080/",
          "height": 521
        },
        "outputId": "8482559b-de29-4c19-a65a-ab4f9b2708e7"
      },
      "cell_type": "code",
      "source": [
        "train3.info()"
      ],
      "execution_count": 58,
      "outputs": [
        {
          "output_type": "stream",
          "text": [
            "<class 'pandas.core.frame.DataFrame'>\n",
            "Int64Index: 1601458 entries, 0 to 1605374\n",
            "Data columns (total 22 columns):\n",
            "apartment_id                         1601458 non-null int64\n",
            "year_of_completion                   1601458 non-null float64\n",
            "apartment_building_count_in_sites    1601458 non-null float64\n",
            "bathroom_count                       1601458 non-null float64\n",
            "exclusive_use_area                   1601458 non-null float64\n",
            "floor                                1601458 non-null float64\n",
            "room_count                           1601458 non-null float64\n",
            "tallest_building_in_sites            1601458 non-null float64\n",
            "total_household_count_in_sites       1601458 non-null float64\n",
            "mortgage_loan                        1601458 non-null float64\n",
            "parking_per_household                1601458 non-null float64\n",
            "central                              1601458 non-null int64\n",
            "district                             1601458 non-null int64\n",
            "individual                           1601458 non-null int64\n",
            "cogeneration                         1601458 non-null int64\n",
            "gas                                  1601458 non-null int64\n",
            "corridor                             1601458 non-null int64\n",
            "mixed                                1601458 non-null int64\n",
            "stairway                             1601458 non-null int64\n",
            "busan                                1601458 non-null uint8\n",
            "seoul                                1601458 non-null uint8\n",
            "transaction_real_price               1601458 non-null int64\n",
            "dtypes: float64(10), int64(10), uint8(2)\n",
            "memory usage: 259.6 MB\n"
          ],
          "name": "stdout"
        }
      ]
    },
    {
      "metadata": {
        "id": "EVfaUr3kzznW",
        "colab_type": "code",
        "colab": {}
      },
      "cell_type": "code",
      "source": [
        "train3.head() # 정규화를 끝낸 데이터셋 \n",
        "train3.to_csv('./Colab Notebooks/data/Final_train.csv',encoding='utf-8') # 최종 데이터 전처리 트레인 "
      ],
      "execution_count": 0,
      "outputs": []
    },
    {
      "metadata": {
        "id": "_lQC83GhDYe7",
        "colab_type": "code",
        "colab": {
          "base_uri": "https://localhost:8080/",
          "height": 75
        },
        "outputId": "b59896ca-bb5d-432f-cead-0f5a554d3579"
      },
      "cell_type": "code",
      "source": [
        "train3 = pd.read_csv('./Colab Notebooks/data/Final_train.csv',encoding = 'utf-8',index_col = 0)\n"
      ],
      "execution_count": 19,
      "outputs": [
        {
          "output_type": "stream",
          "text": [
            "/usr/local/lib/python3.6/dist-packages/numpy/lib/arraysetops.py:472: FutureWarning: elementwise comparison failed; returning scalar instead, but in the future will perform elementwise comparison\n",
            "  mask |= (ar1 == a)\n"
          ],
          "name": "stderr"
        }
      ]
    },
    {
      "metadata": {
        "id": "SlDoqUkfD87Y",
        "colab_type": "code",
        "colab": {
          "base_uri": "https://localhost:8080/",
          "height": 222
        },
        "outputId": "b669bc27-eb3f-4e73-fe80-1f51b1d9a465"
      },
      "cell_type": "code",
      "source": [
        "train3.head()"
      ],
      "execution_count": 20,
      "outputs": [
        {
          "output_type": "execute_result",
          "data": {
            "text/html": [
              "<div>\n",
              "<style scoped>\n",
              "    .dataframe tbody tr th:only-of-type {\n",
              "        vertical-align: middle;\n",
              "    }\n",
              "\n",
              "    .dataframe tbody tr th {\n",
              "        vertical-align: top;\n",
              "    }\n",
              "\n",
              "    .dataframe thead th {\n",
              "        text-align: right;\n",
              "    }\n",
              "</style>\n",
              "<table border=\"1\" class=\"dataframe\">\n",
              "  <thead>\n",
              "    <tr style=\"text-align: right;\">\n",
              "      <th></th>\n",
              "      <th>apartment_id</th>\n",
              "      <th>year_of_completion</th>\n",
              "      <th>apartment_building_count_in_sites</th>\n",
              "      <th>bathroom_count</th>\n",
              "      <th>exclusive_use_area</th>\n",
              "      <th>floor</th>\n",
              "      <th>room_count</th>\n",
              "      <th>tallest_building_in_sites</th>\n",
              "      <th>total_household_count_in_sites</th>\n",
              "      <th>mortgage_loan</th>\n",
              "      <th>parking_per_household</th>\n",
              "      <th>central</th>\n",
              "      <th>district</th>\n",
              "      <th>individual</th>\n",
              "      <th>cogeneration</th>\n",
              "      <th>gas</th>\n",
              "      <th>corridor</th>\n",
              "      <th>mixed</th>\n",
              "      <th>stairway</th>\n",
              "      <th>transaction_real_price</th>\n",
              "    </tr>\n",
              "  </thead>\n",
              "  <tbody>\n",
              "    <tr>\n",
              "      <th>0</th>\n",
              "      <td>5584</td>\n",
              "      <td>0.042060</td>\n",
              "      <td>-0.839598</td>\n",
              "      <td>-1.157310</td>\n",
              "      <td>-1.144215</td>\n",
              "      <td>-0.574122</td>\n",
              "      <td>-2.932447</td>\n",
              "      <td>-1.459764</td>\n",
              "      <td>-0.926899</td>\n",
              "      <td>1.009664</td>\n",
              "      <td>0.220346</td>\n",
              "      <td>0</td>\n",
              "      <td>0</td>\n",
              "      <td>1</td>\n",
              "      <td>0</td>\n",
              "      <td>1</td>\n",
              "      <td>1</td>\n",
              "      <td>0</td>\n",
              "      <td>0</td>\n",
              "      <td>215000000</td>\n",
              "    </tr>\n",
              "    <tr>\n",
              "      <th>1</th>\n",
              "      <td>5584</td>\n",
              "      <td>0.042060</td>\n",
              "      <td>-0.839598</td>\n",
              "      <td>-1.157310</td>\n",
              "      <td>-1.253498</td>\n",
              "      <td>-0.296118</td>\n",
              "      <td>-1.429483</td>\n",
              "      <td>-1.459764</td>\n",
              "      <td>-0.926899</td>\n",
              "      <td>1.009664</td>\n",
              "      <td>0.220346</td>\n",
              "      <td>0</td>\n",
              "      <td>0</td>\n",
              "      <td>1</td>\n",
              "      <td>0</td>\n",
              "      <td>1</td>\n",
              "      <td>1</td>\n",
              "      <td>0</td>\n",
              "      <td>0</td>\n",
              "      <td>200000000</td>\n",
              "    </tr>\n",
              "    <tr>\n",
              "      <th>2</th>\n",
              "      <td>5059</td>\n",
              "      <td>-0.786868</td>\n",
              "      <td>-0.553712</td>\n",
              "      <td>-1.157310</td>\n",
              "      <td>-0.884577</td>\n",
              "      <td>-0.296118</td>\n",
              "      <td>-1.429483</td>\n",
              "      <td>-0.774081</td>\n",
              "      <td>-0.528882</td>\n",
              "      <td>1.009664</td>\n",
              "      <td>0.978990</td>\n",
              "      <td>0</td>\n",
              "      <td>0</td>\n",
              "      <td>1</td>\n",
              "      <td>0</td>\n",
              "      <td>1</td>\n",
              "      <td>1</td>\n",
              "      <td>0</td>\n",
              "      <td>0</td>\n",
              "      <td>168000000</td>\n",
              "    </tr>\n",
              "    <tr>\n",
              "      <th>3</th>\n",
              "      <td>2816</td>\n",
              "      <td>-0.668450</td>\n",
              "      <td>-0.410768</td>\n",
              "      <td>-1.157310</td>\n",
              "      <td>-0.528869</td>\n",
              "      <td>0.120889</td>\n",
              "      <td>-1.429483</td>\n",
              "      <td>-0.659800</td>\n",
              "      <td>-0.232807</td>\n",
              "      <td>1.009664</td>\n",
              "      <td>-0.270541</td>\n",
              "      <td>0</td>\n",
              "      <td>0</td>\n",
              "      <td>1</td>\n",
              "      <td>0</td>\n",
              "      <td>1</td>\n",
              "      <td>1</td>\n",
              "      <td>0</td>\n",
              "      <td>0</td>\n",
              "      <td>165000000</td>\n",
              "    </tr>\n",
              "    <tr>\n",
              "      <th>4</th>\n",
              "      <td>2816</td>\n",
              "      <td>-0.668450</td>\n",
              "      <td>-0.410768</td>\n",
              "      <td>0.814297</td>\n",
              "      <td>0.969673</td>\n",
              "      <td>-0.435120</td>\n",
              "      <td>1.576445</td>\n",
              "      <td>-0.659800</td>\n",
              "      <td>-0.232807</td>\n",
              "      <td>1.009664</td>\n",
              "      <td>-0.270541</td>\n",
              "      <td>0</td>\n",
              "      <td>0</td>\n",
              "      <td>1</td>\n",
              "      <td>0</td>\n",
              "      <td>1</td>\n",
              "      <td>0</td>\n",
              "      <td>0</td>\n",
              "      <td>1</td>\n",
              "      <td>280000000</td>\n",
              "    </tr>\n",
              "  </tbody>\n",
              "</table>\n",
              "</div>"
            ],
            "text/plain": [
              "   apartment_id  year_of_completion  apartment_building_count_in_sites  \\\n",
              "0          5584            0.042060                          -0.839598   \n",
              "1          5584            0.042060                          -0.839598   \n",
              "2          5059           -0.786868                          -0.553712   \n",
              "3          2816           -0.668450                          -0.410768   \n",
              "4          2816           -0.668450                          -0.410768   \n",
              "\n",
              "   bathroom_count  exclusive_use_area     floor  room_count  \\\n",
              "0       -1.157310           -1.144215 -0.574122   -2.932447   \n",
              "1       -1.157310           -1.253498 -0.296118   -1.429483   \n",
              "2       -1.157310           -0.884577 -0.296118   -1.429483   \n",
              "3       -1.157310           -0.528869  0.120889   -1.429483   \n",
              "4        0.814297            0.969673 -0.435120    1.576445   \n",
              "\n",
              "   tallest_building_in_sites  total_household_count_in_sites  mortgage_loan  \\\n",
              "0                  -1.459764                       -0.926899       1.009664   \n",
              "1                  -1.459764                       -0.926899       1.009664   \n",
              "2                  -0.774081                       -0.528882       1.009664   \n",
              "3                  -0.659800                       -0.232807       1.009664   \n",
              "4                  -0.659800                       -0.232807       1.009664   \n",
              "\n",
              "   parking_per_household  central  district  individual  cogeneration  gas  \\\n",
              "0               0.220346        0         0           1             0    1   \n",
              "1               0.220346        0         0           1             0    1   \n",
              "2               0.978990        0         0           1             0    1   \n",
              "3              -0.270541        0         0           1             0    1   \n",
              "4              -0.270541        0         0           1             0    1   \n",
              "\n",
              "   corridor  mixed  stairway  transaction_real_price  \n",
              "0         1      0         0               215000000  \n",
              "1         1      0         0               200000000  \n",
              "2         1      0         0               168000000  \n",
              "3         1      0         0               165000000  \n",
              "4         0      0         1               280000000  "
            ]
          },
          "metadata": {
            "tags": []
          },
          "execution_count": 20
        }
      ]
    },
    {
      "metadata": {
        "id": "cq9NS5Eb1f3F",
        "colab_type": "code",
        "colab": {}
      },
      "cell_type": "code",
      "source": [
        "test = pd.read_csv('./Colab Notebooks/data/real_perfect_test.csv', encoding='utf-8',index_col = 0)\n"
      ],
      "execution_count": 0,
      "outputs": []
    },
    {
      "metadata": {
        "id": "2uqTHGfS2CyZ",
        "colab_type": "code",
        "colab": {
          "base_uri": "https://localhost:8080/",
          "height": 251
        },
        "outputId": "2035d44f-08af-4401-ffa0-c9c68fb8c57b"
      },
      "cell_type": "code",
      "source": [
        "test.head()"
      ],
      "execution_count": 21,
      "outputs": [
        {
          "output_type": "execute_result",
          "data": {
            "text/html": [
              "<div>\n",
              "<style scoped>\n",
              "    .dataframe tbody tr th:only-of-type {\n",
              "        vertical-align: middle;\n",
              "    }\n",
              "\n",
              "    .dataframe tbody tr th {\n",
              "        vertical-align: top;\n",
              "    }\n",
              "\n",
              "    .dataframe thead th {\n",
              "        text-align: right;\n",
              "    }\n",
              "</style>\n",
              "<table border=\"1\" class=\"dataframe\">\n",
              "  <thead>\n",
              "    <tr style=\"text-align: right;\">\n",
              "      <th></th>\n",
              "      <th>key</th>\n",
              "      <th>city</th>\n",
              "      <th>apartment_id</th>\n",
              "      <th>address_by_law</th>\n",
              "      <th>transaction_date</th>\n",
              "      <th>transaction_year_month</th>\n",
              "      <th>year_of_completion</th>\n",
              "      <th>apartment_building_count_in_sites</th>\n",
              "      <th>bathroom_count</th>\n",
              "      <th>exclusive_use_area</th>\n",
              "      <th>...</th>\n",
              "      <th>mortgage_loan</th>\n",
              "      <th>transaction_real_price</th>\n",
              "      <th>central</th>\n",
              "      <th>district</th>\n",
              "      <th>individual</th>\n",
              "      <th>cogeneration</th>\n",
              "      <th>gas</th>\n",
              "      <th>corridor</th>\n",
              "      <th>mixed</th>\n",
              "      <th>stairway</th>\n",
              "    </tr>\n",
              "  </thead>\n",
              "  <tbody>\n",
              "    <tr>\n",
              "      <th>1568913</th>\n",
              "      <td>462533</td>\n",
              "      <td>1</td>\n",
              "      <td>3751</td>\n",
              "      <td>1168010400</td>\n",
              "      <td>31</td>\n",
              "      <td>200912</td>\n",
              "      <td>1984</td>\n",
              "      <td>4</td>\n",
              "      <td>1.0</td>\n",
              "      <td>83.58</td>\n",
              "      <td>...</td>\n",
              "      <td>5.90</td>\n",
              "      <td>0</td>\n",
              "      <td>0</td>\n",
              "      <td>1</td>\n",
              "      <td>0</td>\n",
              "      <td>1</td>\n",
              "      <td>0</td>\n",
              "      <td>1</td>\n",
              "      <td>0</td>\n",
              "      <td>0</td>\n",
              "    </tr>\n",
              "    <tr>\n",
              "      <th>1568914</th>\n",
              "      <td>764018</td>\n",
              "      <td>1</td>\n",
              "      <td>14029</td>\n",
              "      <td>1111013700</td>\n",
              "      <td>10</td>\n",
              "      <td>201304</td>\n",
              "      <td>1968</td>\n",
              "      <td>1</td>\n",
              "      <td>0.0</td>\n",
              "      <td>107.17</td>\n",
              "      <td>...</td>\n",
              "      <td>3.86</td>\n",
              "      <td>0</td>\n",
              "      <td>0</td>\n",
              "      <td>0</td>\n",
              "      <td>1</td>\n",
              "      <td>0</td>\n",
              "      <td>1</td>\n",
              "      <td>1</td>\n",
              "      <td>0</td>\n",
              "      <td>0</td>\n",
              "    </tr>\n",
              "    <tr>\n",
              "      <th>1568915</th>\n",
              "      <td>813528</td>\n",
              "      <td>1</td>\n",
              "      <td>12304</td>\n",
              "      <td>1111017400</td>\n",
              "      <td>30</td>\n",
              "      <td>201309</td>\n",
              "      <td>1968</td>\n",
              "      <td>4</td>\n",
              "      <td>1.0</td>\n",
              "      <td>36.17</td>\n",
              "      <td>...</td>\n",
              "      <td>3.82</td>\n",
              "      <td>0</td>\n",
              "      <td>0</td>\n",
              "      <td>0</td>\n",
              "      <td>1</td>\n",
              "      <td>0</td>\n",
              "      <td>1</td>\n",
              "      <td>0</td>\n",
              "      <td>0</td>\n",
              "      <td>1</td>\n",
              "    </tr>\n",
              "    <tr>\n",
              "      <th>1568916</th>\n",
              "      <td>845097</td>\n",
              "      <td>1</td>\n",
              "      <td>22241</td>\n",
              "      <td>1150010200</td>\n",
              "      <td>10</td>\n",
              "      <td>201312</td>\n",
              "      <td>2007</td>\n",
              "      <td>1</td>\n",
              "      <td>2.0</td>\n",
              "      <td>45.67</td>\n",
              "      <td>...</td>\n",
              "      <td>3.74</td>\n",
              "      <td>0</td>\n",
              "      <td>0</td>\n",
              "      <td>0</td>\n",
              "      <td>1</td>\n",
              "      <td>0</td>\n",
              "      <td>1</td>\n",
              "      <td>0</td>\n",
              "      <td>0</td>\n",
              "      <td>1</td>\n",
              "    </tr>\n",
              "    <tr>\n",
              "      <th>1568917</th>\n",
              "      <td>856338</td>\n",
              "      <td>1</td>\n",
              "      <td>316</td>\n",
              "      <td>1135010600</td>\n",
              "      <td>10</td>\n",
              "      <td>201401</td>\n",
              "      <td>1988</td>\n",
              "      <td>2</td>\n",
              "      <td>1.0</td>\n",
              "      <td>41.85</td>\n",
              "      <td>...</td>\n",
              "      <td>3.75</td>\n",
              "      <td>0</td>\n",
              "      <td>0</td>\n",
              "      <td>0</td>\n",
              "      <td>1</td>\n",
              "      <td>0</td>\n",
              "      <td>1</td>\n",
              "      <td>0</td>\n",
              "      <td>0</td>\n",
              "      <td>1</td>\n",
              "    </tr>\n",
              "  </tbody>\n",
              "</table>\n",
              "<p>5 rows × 33 columns</p>\n",
              "</div>"
            ],
            "text/plain": [
              "            key  city  apartment_id  address_by_law  transaction_date  \\\n",
              "1568913  462533     1          3751      1168010400                31   \n",
              "1568914  764018     1         14029      1111013700                10   \n",
              "1568915  813528     1         12304      1111017400                30   \n",
              "1568916  845097     1         22241      1150010200                10   \n",
              "1568917  856338     1           316      1135010600                10   \n",
              "\n",
              "         transaction_year_month  year_of_completion  \\\n",
              "1568913                  200912                1984   \n",
              "1568914                  201304                1968   \n",
              "1568915                  201309                1968   \n",
              "1568916                  201312                2007   \n",
              "1568917                  201401                1988   \n",
              "\n",
              "         apartment_building_count_in_sites  bathroom_count  \\\n",
              "1568913                                  4             1.0   \n",
              "1568914                                  1             0.0   \n",
              "1568915                                  4             1.0   \n",
              "1568916                                  1             2.0   \n",
              "1568917                                  2             1.0   \n",
              "\n",
              "         exclusive_use_area    ...     mortgage_loan  transaction_real_price  \\\n",
              "1568913               83.58    ...              5.90                       0   \n",
              "1568914              107.17    ...              3.86                       0   \n",
              "1568915               36.17    ...              3.82                       0   \n",
              "1568916               45.67    ...              3.74                       0   \n",
              "1568917               41.85    ...              3.75                       0   \n",
              "\n",
              "         central  district  individual  cogeneration  gas  corridor  mixed  \\\n",
              "1568913        0         1           0             1    0         1      0   \n",
              "1568914        0         0           1             0    1         1      0   \n",
              "1568915        0         0           1             0    1         0      0   \n",
              "1568916        0         0           1             0    1         0      0   \n",
              "1568917        0         0           1             0    1         0      0   \n",
              "\n",
              "         stairway  \n",
              "1568913         0  \n",
              "1568914         0  \n",
              "1568915         1  \n",
              "1568916         1  \n",
              "1568917         1  \n",
              "\n",
              "[5 rows x 33 columns]"
            ]
          },
          "metadata": {
            "tags": []
          },
          "execution_count": 21
        }
      ]
    },
    {
      "metadata": {
        "id": "r22cpV1U2rxh",
        "colab_type": "code",
        "colab": {}
      },
      "cell_type": "code",
      "source": [
        "test = test.drop(columns = ['address_by_law','transaction_date','transaction_year_month','latitude','longitude','room_id','supply_area','total_household_count_of_area_type','household_loan','mean_loan','lowest_building_in_sites'])"
      ],
      "execution_count": 0,
      "outputs": []
    },
    {
      "metadata": {
        "id": "8LhxM1cC3yrI",
        "colab_type": "code",
        "outputId": "0fc58ed3-3dde-4002-a303-7e4a59dfe0ed",
        "colab": {
          "base_uri": "https://localhost:8080/",
          "height": 261
        }
      },
      "cell_type": "code",
      "source": [
        "test2 = test[['year_of_completion',\n",
        "       'apartment_building_count_in_sites','bathroom_count',\n",
        "       'exclusive_use_area', 'floor', 'room_count',\n",
        "       'tallest_building_in_sites', 'total_household_count_in_sites',\n",
        "       'total_parking_capacity_in_site','mortgage_loan',\n",
        "       ]]\n",
        "test2['parking_per_household'] = test2['total_parking_capacity_in_site'] / test2['total_household_count_in_sites'] \n",
        "test2['parking_per_household']= round(test2.parking_per_household,2)\n",
        "test2 = test2.drop(columns = ['total_parking_capacity_in_site'])"
      ],
      "execution_count": 24,
      "outputs": [
        {
          "output_type": "stream",
          "text": [
            "/usr/local/lib/python3.6/dist-packages/ipykernel_launcher.py:7: SettingWithCopyWarning: \n",
            "A value is trying to be set on a copy of a slice from a DataFrame.\n",
            "Try using .loc[row_indexer,col_indexer] = value instead\n",
            "\n",
            "See the caveats in the documentation: http://pandas.pydata.org/pandas-docs/stable/indexing.html#indexing-view-versus-copy\n",
            "  import sys\n",
            "/usr/local/lib/python3.6/dist-packages/ipykernel_launcher.py:8: SettingWithCopyWarning: \n",
            "A value is trying to be set on a copy of a slice from a DataFrame.\n",
            "Try using .loc[row_indexer,col_indexer] = value instead\n",
            "\n",
            "See the caveats in the documentation: http://pandas.pydata.org/pandas-docs/stable/indexing.html#indexing-view-versus-copy\n",
            "  \n"
          ],
          "name": "stderr"
        }
      ]
    },
    {
      "metadata": {
        "id": "bMzNYQnG4Ca_",
        "colab_type": "code",
        "colab": {}
      },
      "cell_type": "code",
      "source": [
        "mean = train2.mean(axis=0)\n",
        "# train2 -= mean\n",
        "std = train2.std(axis=0)\n",
        "# train2 /= std \n",
        "\n",
        "test2 -= mean\n",
        "test2 /= std"
      ],
      "execution_count": 0,
      "outputs": []
    },
    {
      "metadata": {
        "id": "o-4-WIuEGMzT",
        "colab_type": "code",
        "colab": {
          "base_uri": "https://localhost:8080/",
          "height": 297
        },
        "outputId": "d2b72fe5-1571-434c-ff9e-a6f226da16a0"
      },
      "cell_type": "code",
      "source": [
        "test2.info()"
      ],
      "execution_count": 31,
      "outputs": [
        {
          "output_type": "stream",
          "text": [
            "<class 'pandas.core.frame.DataFrame'>\n",
            "Int64Index: 3918 entries, 1568913 to 1605375\n",
            "Data columns (total 10 columns):\n",
            "year_of_completion                   3918 non-null float64\n",
            "apartment_building_count_in_sites    3918 non-null float64\n",
            "bathroom_count                       3918 non-null float64\n",
            "exclusive_use_area                   3918 non-null float64\n",
            "floor                                3918 non-null float64\n",
            "room_count                           3918 non-null float64\n",
            "tallest_building_in_sites            3918 non-null float64\n",
            "total_household_count_in_sites       3918 non-null float64\n",
            "mortgage_loan                        3918 non-null float64\n",
            "parking_per_household                3918 non-null float64\n",
            "dtypes: float64(10)\n",
            "memory usage: 336.7 KB\n"
          ],
          "name": "stdout"
        }
      ]
    },
    {
      "metadata": {
        "id": "LWy1CB2zGDGM",
        "colab_type": "code",
        "colab": {}
      },
      "cell_type": "code",
      "source": [
        "test4 = test[['apartment_id','transaction_real_price','city','central','district','individual','cogeneration','gas','corridor','mixed','stairway']]"
      ],
      "execution_count": 0,
      "outputs": []
    },
    {
      "metadata": {
        "id": "8x-GRA55GUEw",
        "colab_type": "code",
        "colab": {}
      },
      "cell_type": "code",
      "source": [
        "test3 = pd.concat([test2,test4], axis = 1)\n",
        "city_onehot = pd.get_dummies(test3.city) \n",
        "test3 = pd.concat(\n",
        "\t[test3, city_onehot],\n",
        "\taxis=1) "
      ],
      "execution_count": 0,
      "outputs": []
    },
    {
      "metadata": {
        "id": "yDrKtmGKGxr5",
        "colab_type": "code",
        "colab": {
          "base_uri": "https://localhost:8080/",
          "height": 167
        },
        "outputId": "4ff27d5b-ccdf-4351-8e9c-36ada4506f95"
      },
      "cell_type": "code",
      "source": [
        "# test3.info()\n",
        "# test3 = test3.rename(columns = {0:'busan',1:'seoul'})\n",
        "test3.columns"
      ],
      "execution_count": 37,
      "outputs": [
        {
          "output_type": "execute_result",
          "data": {
            "text/plain": [
              "Index(['year_of_completion', 'apartment_building_count_in_sites',\n",
              "       'bathroom_count', 'exclusive_use_area', 'floor', 'room_count',\n",
              "       'tallest_building_in_sites', 'total_household_count_in_sites',\n",
              "       'mortgage_loan', 'parking_per_household', 'apartment_id',\n",
              "       'transaction_real_price', 'city', 'central', 'district', 'individual',\n",
              "       'cogeneration', 'gas', 'corridor', 'mixed', 'stairway', 'busan',\n",
              "       'seoul'],\n",
              "      dtype='object')"
            ]
          },
          "metadata": {
            "tags": []
          },
          "execution_count": 37
        }
      ]
    },
    {
      "metadata": {
        "id": "ROBfugqoGiDi",
        "colab_type": "code",
        "colab": {}
      },
      "cell_type": "code",
      "source": [
        "test3 = test3[['apartment_id','year_of_completion', 'apartment_building_count_in_sites',\n",
        "       'bathroom_count', 'exclusive_use_area', 'floor', 'room_count',\n",
        "       'tallest_building_in_sites', 'total_household_count_in_sites',\n",
        "       'mortgage_loan', 'parking_per_household', \n",
        "       'city', 'central', 'district', 'individual',\n",
        "       'cogeneration', 'gas', 'corridor', 'mixed', 'stairway', 'busan',\n",
        "       'seoul','transaction_real_price']]"
      ],
      "execution_count": 0,
      "outputs": []
    },
    {
      "metadata": {
        "id": "39oChHtNHxjv",
        "colab_type": "code",
        "colab": {
          "base_uri": "https://localhost:8080/",
          "height": 540
        },
        "outputId": "a212ac88-fe22-44b1-b68a-26d58c0af358"
      },
      "cell_type": "code",
      "source": [
        "test3.info()"
      ],
      "execution_count": 56,
      "outputs": [
        {
          "output_type": "stream",
          "text": [
            "<class 'pandas.core.frame.DataFrame'>\n",
            "Int64Index: 3918 entries, 1568913 to 1605375\n",
            "Data columns (total 23 columns):\n",
            "apartment_id                         3918 non-null int64\n",
            "year_of_completion                   3918 non-null float64\n",
            "apartment_building_count_in_sites    3918 non-null float64\n",
            "bathroom_count                       3918 non-null float64\n",
            "exclusive_use_area                   3918 non-null float64\n",
            "floor                                3918 non-null float64\n",
            "room_count                           3918 non-null float64\n",
            "tallest_building_in_sites            3918 non-null float64\n",
            "total_household_count_in_sites       3918 non-null float64\n",
            "mortgage_loan                        3918 non-null float64\n",
            "parking_per_household                3918 non-null float64\n",
            "city                                 3918 non-null int64\n",
            "central                              3918 non-null int64\n",
            "district                             3918 non-null int64\n",
            "individual                           3918 non-null int64\n",
            "cogeneration                         3918 non-null int64\n",
            "gas                                  3918 non-null int64\n",
            "corridor                             3918 non-null int64\n",
            "mixed                                3918 non-null int64\n",
            "stairway                             3918 non-null int64\n",
            "busan                                3918 non-null uint8\n",
            "seoul                                3918 non-null uint8\n",
            "transaction_real_price               3918 non-null int64\n",
            "dtypes: float64(10), int64(11), uint8(2)\n",
            "memory usage: 681.1 KB\n"
          ],
          "name": "stdout"
        }
      ]
    },
    {
      "metadata": {
        "id": "36qfg0rDHypI",
        "colab_type": "code",
        "colab": {}
      },
      "cell_type": "code",
      "source": [
        "test3.to_csv('./Colab Notebooks/data/Final_test.csv',encoding='utf-8') # 최종 데이터 전처리 트레인 "
      ],
      "execution_count": 0,
      "outputs": []
    },
    {
      "metadata": {
        "id": "3Enn31rUJC_a",
        "colab_type": "code",
        "colab": {}
      },
      "cell_type": "code",
      "source": [
        ""
      ],
      "execution_count": 0,
      "outputs": []
    }
  ]
}